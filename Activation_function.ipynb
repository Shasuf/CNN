{
  "nbformat": 4,
  "nbformat_minor": 0,
  "metadata": {
    "colab": {
      "name": "Activation function.ipynb",
      "provenance": [],
      "collapsed_sections": []
    },
    "kernelspec": {
      "name": "python3",
      "display_name": "Python 3"
    },
    "language_info": {
      "name": "python"
    }
  },
  "cells": [
    {
      "cell_type": "markdown",
      "metadata": {
        "id": "GCED-QzGaNLf"
      },
      "source": [
        "Activation fuction is helpful inthe output layers. if we remove the output layer.\n",
        "If we remove the o/p from the hidden layer , we will get a linear equation ,where the o/p would be the sum of all the inputs. that would be useless for complex problems hence the concept of activation function is used.\n",
        "**it helps to solve the complex or the non linear function.**"
      ]
    },
    {
      "cell_type": "markdown",
      "metadata": {
        "id": "f13XnKkUbe4H"
      },
      "source": [
        "It is mainly used when you have the o/p inthe binary classification.\n",
        "it takes your input and converts it in a range of 0 t0 1 that helps inthe classification.\n",
        "**It is mainly used inthe output layer**\n"
      ]
    },
    {
      "cell_type": "code",
      "metadata": {
        "id": "ob99nFlQR2r9"
      },
      "source": [
        "import math\n",
        "def sigmoid(x): # any output will be between 0 to 1\n",
        "  return 1/(1+math.exp(-x))"
      ],
      "execution_count": 2,
      "outputs": []
    },
    {
      "cell_type": "code",
      "metadata": {
        "colab": {
          "base_uri": "https://localhost:8080/"
        },
        "id": "uqMk7ndqW5WU",
        "outputId": "ea83b279-636a-447d-fd19-cb5953bcf969"
      },
      "source": [
        "sigmoid(100) "
      ],
      "execution_count": 3,
      "outputs": [
        {
          "output_type": "execute_result",
          "data": {
            "text/plain": [
              "1.0"
            ]
          },
          "metadata": {},
          "execution_count": 3
        }
      ]
    },
    {
      "cell_type": "code",
      "metadata": {
        "colab": {
          "base_uri": "https://localhost:8080/"
        },
        "id": "SLUWYfJXXBkK",
        "outputId": "5ef8cd13-7f05-4d14-c1e9-262b85eed3df"
      },
      "source": [
        "sigmoid(0.5)"
      ],
      "execution_count": 4,
      "outputs": [
        {
          "output_type": "execute_result",
          "data": {
            "text/plain": [
              "0.6224593312018546"
            ]
          },
          "metadata": {},
          "execution_count": 4
        }
      ]
    },
    {
      "cell_type": "markdown",
      "metadata": {
        "id": "xv_WN2KScPAI"
      },
      "source": [
        "It use basically used to center your data\n",
        "**the input given would be converted inthe range of -1 and 1**"
      ]
    },
    {
      "cell_type": "code",
      "metadata": {
        "id": "ej6Q8aFkXIW9"
      },
      "source": [
        "def tanh(x): \n",
        "  return (math.exp(x)-math.exp(-x))/(math.exp(x)+math.exp(-x))"
      ],
      "execution_count": 11,
      "outputs": []
    },
    {
      "cell_type": "code",
      "metadata": {
        "colab": {
          "base_uri": "https://localhost:8080/"
        },
        "id": "cAPIP5UKX9bB",
        "outputId": "b92873ff-e9f3-45ac-b97e-7bef956c91c9"
      },
      "source": [
        "tanh(100)"
      ],
      "execution_count": 13,
      "outputs": [
        {
          "output_type": "execute_result",
          "data": {
            "text/plain": [
              "1.0"
            ]
          },
          "metadata": {},
          "execution_count": 13
        }
      ]
    },
    {
      "cell_type": "code",
      "metadata": {
        "colab": {
          "base_uri": "https://localhost:8080/"
        },
        "id": "nqnuMgtDYpea",
        "outputId": "a3dfc504-5164-4f47-f76a-c2af95309b88"
      },
      "source": [
        "tanh(0.5)"
      ],
      "execution_count": 14,
      "outputs": [
        {
          "output_type": "execute_result",
          "data": {
            "text/plain": [
              "0.4621171572600098"
            ]
          },
          "metadata": {},
          "execution_count": 14
        }
      ]
    },
    {
      "cell_type": "markdown",
      "metadata": {
        "id": "IYoTeWm3ckP4"
      },
      "source": [
        "Relu is mostly preferred to be used inthe hidden layer\n",
        "**it will return same output if the input  is greater than zero and it will return zero if the input is less than zero**"
      ]
    },
    {
      "cell_type": "code",
      "metadata": {
        "id": "xaGscKUVY09s"
      },
      "source": [
        "def relu(x): \n",
        "  return max(0,x)"
      ],
      "execution_count": 15,
      "outputs": []
    },
    {
      "cell_type": "code",
      "metadata": {
        "colab": {
          "base_uri": "https://localhost:8080/"
        },
        "id": "G2bNU4X5ZDim",
        "outputId": "f30a4475-6b26-4a1f-f926-6b4490cdd1a1"
      },
      "source": [
        "relu(100)"
      ],
      "execution_count": 16,
      "outputs": [
        {
          "output_type": "execute_result",
          "data": {
            "text/plain": [
              "100"
            ]
          },
          "metadata": {},
          "execution_count": 16
        }
      ]
    },
    {
      "cell_type": "code",
      "metadata": {
        "colab": {
          "base_uri": "https://localhost:8080/"
        },
        "id": "kodGliDEZGrg",
        "outputId": "a5b44443-b3cd-41a0-e1d8-a1ddbb6f7efb"
      },
      "source": [
        "relu (-3)"
      ],
      "execution_count": 18,
      "outputs": [
        {
          "output_type": "execute_result",
          "data": {
            "text/plain": [
              "0"
            ]
          },
          "metadata": {},
          "execution_count": 18
        }
      ]
    },
    {
      "cell_type": "markdown",
      "metadata": {
        "id": "nKCuWD42c6hb"
      },
      "source": [
        "Reaky relu is also preferred inthe hidden layer.\n",
        "**it will return the same output for a positive value but for negative value it will multiply by 0.1**"
      ]
    },
    {
      "cell_type": "code",
      "metadata": {
        "id": "b-jWUD4wZfda"
      },
      "source": [
        "def reky_relu(x): \n",
        "  return max(0.1*x,x)"
      ],
      "execution_count": 20,
      "outputs": []
    },
    {
      "cell_type": "code",
      "metadata": {
        "colab": {
          "base_uri": "https://localhost:8080/"
        },
        "id": "JTtG7PviZ9E5",
        "outputId": "836aea5c-4855-4069-9485-aeae7e7965f2"
      },
      "source": [
        "reky_relu(100)"
      ],
      "execution_count": 21,
      "outputs": [
        {
          "output_type": "execute_result",
          "data": {
            "text/plain": [
              "100"
            ]
          },
          "metadata": {},
          "execution_count": 21
        }
      ]
    },
    {
      "cell_type": "code",
      "metadata": {
        "colab": {
          "base_uri": "https://localhost:8080/"
        },
        "id": "fdMhL4xCaDxc",
        "outputId": "a9b1e186-0da2-459f-8aec-5eda97c77507"
      },
      "source": [
        "reky_relu(-3)"
      ],
      "execution_count": 22,
      "outputs": [
        {
          "output_type": "execute_result",
          "data": {
            "text/plain": [
              "-0.30000000000000004"
            ]
          },
          "metadata": {},
          "execution_count": 22
        }
      ]
    }
  ]
}