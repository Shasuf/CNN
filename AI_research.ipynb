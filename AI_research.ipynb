{
  "nbformat": 4,
  "nbformat_minor": 0,
  "metadata": {
    "colab": {
      "name": "AI research.ipynb",
      "provenance": [],
      "mount_file_id": "1fce5kI20rfwUWod9Hl5ko1HSRRxroNjV",
      "authorship_tag": "ABX9TyMOza2cli44UeL+2vSISm2z",
      "include_colab_link": true
    },
    "kernelspec": {
      "name": "python3",
      "display_name": "Python 3"
    },
    "language_info": {
      "name": "python"
    }
  },
  "cells": [
    {
      "cell_type": "markdown",
      "metadata": {
        "id": "view-in-github",
        "colab_type": "text"
      },
      "source": [
        "<a href=\"https://colab.research.google.com/github/Shasuf/CNN/blob/main/AI_research.ipynb\" target=\"_parent\"><img src=\"https://colab.research.google.com/assets/colab-badge.svg\" alt=\"Open In Colab\"/></a>"
      ]
    },
    {
      "cell_type": "code",
      "execution_count": null,
      "metadata": {
        "id": "M-0QFVY7q9E_",
        "colab": {
          "base_uri": "https://localhost:8080/"
        },
        "outputId": "f67ffdf7-c438-41db-a90d-3d5722157858"
      },
      "outputs": [
        {
          "output_type": "stream",
          "name": "stdout",
          "text": [
            "\n",
            "*** Import Libraries ***\n",
            "Done ...\n"
          ]
        }
      ],
      "source": [
        "# import libraries\n",
        "print(\"\\n*** Import Libraries ***\")\n",
        "# hides all warnings\n",
        "import warnings\n",
        "warnings.filterwarnings('ignore')\n",
        "# pandas \n",
        "import pandas as pd\n",
        "# numpy\n",
        "import numpy as np\n",
        "# matplotlib \n",
        "import matplotlib.pyplot as plt\n",
        "#%matplotlib inline\n",
        "plt.style.use('ggplot')\n",
        "plt.rcParams['figure.figsize'] = (10, 5)\n",
        "# sns\n",
        "import seaborn as sns\n",
        "print(\"Done ...\")"
      ]
    },
    {
      "cell_type": "code",
      "source": [
        "# import utils stored in g-drive / My Drive  / Collab Notebooks\n",
        "print(\"\\n*** Import Utils ***\")\n",
        "import sys\n",
        "from google.colab import drive\n",
        "drive.mount('/content/gdrive')\n",
        "# To add a directory with your code into a list of directories \n",
        "# which will be searched for packages\n",
        "sys.path.append('/content/gdrive/My Drive/Colab Notebooks')\n",
        "import utils\n",
        "print(\"Done ...\")"
      ],
      "metadata": {
        "colab": {
          "base_uri": "https://localhost:8080/"
        },
        "id": "d3Y7LZGVsS8n",
        "outputId": "f020f57b-c0f7-4b18-dff7-080bb7c2b964"
      },
      "execution_count": null,
      "outputs": [
        {
          "output_type": "stream",
          "name": "stdout",
          "text": [
            "\n",
            "*** Import Utils ***\n",
            "Mounted at /content/gdrive\n",
            "Done ...\n"
          ]
        }
      ]
    },
    {
      "cell_type": "code",
      "source": [
        "print(\"\\n*** Read Data ***\")\n",
        "vFileName = '/content/gdrive/MyDrive/Colab Notebooks/data/Research Dataset .csv'\n",
        "df = pd.read_csv(vFileName)\n",
        "print(\"Done ...\")"
      ],
      "metadata": {
        "colab": {
          "base_uri": "https://localhost:8080/"
        },
        "id": "JK9K_WdBsYSz",
        "outputId": "6c9254aa-9da1-4839-b8a3-be0b9bdf34f2"
      },
      "execution_count": null,
      "outputs": [
        {
          "output_type": "stream",
          "name": "stdout",
          "text": [
            "\n",
            "*** Read Data ***\n",
            "Done ...\n"
          ]
        }
      ]
    },
    {
      "cell_type": "code",
      "source": [
        "##############################################################\n",
        "# Exploratory Data Analysis\n",
        "##############################################################\n",
        "\n",
        "# rows & cols\n",
        "print(\"\\n*** Rows & Cols ***\")\n",
        "print(\"Rows\",df.shape[0])\n",
        "print(\"Cols\",df.shape[1])"
      ],
      "metadata": {
        "colab": {
          "base_uri": "https://localhost:8080/"
        },
        "id": "ZN19H6_lsxdd",
        "outputId": "30a0c29b-2e57-4e77-abbc-af3db1d43e32"
      },
      "execution_count": null,
      "outputs": [
        {
          "output_type": "stream",
          "name": "stdout",
          "text": [
            "\n",
            "*** Rows & Cols ***\n",
            "Rows 150\n",
            "Cols 8\n"
          ]
        }
      ]
    },
    {
      "cell_type": "code",
      "source": [
        "# columns\n",
        "print(\"\\n*** Column Names ***\")\n",
        "print(df.columns)\n"
      ],
      "metadata": {
        "colab": {
          "base_uri": "https://localhost:8080/"
        },
        "id": "OlWOKNlks3G4",
        "outputId": "6650ef71-9fc0-49a2-cfd5-c108ea622f7e"
      },
      "execution_count": null,
      "outputs": [
        {
          "output_type": "stream",
          "name": "stdout",
          "text": [
            "\n",
            "*** Column Names ***\n",
            "Index(['Country', 'Region', 'Publications', '% Women in Ai', 'AI startups',\n",
            "       'Total  usd raised', '% Ai skills', 'Repositeries created'],\n",
            "      dtype='object')\n"
          ]
        }
      ]
    },
    {
      "cell_type": "code",
      "source": [
        "# info\n",
        "print(\"\\n*** Structure ***\")\n",
        "print(df.info())"
      ],
      "metadata": {
        "colab": {
          "base_uri": "https://localhost:8080/"
        },
        "id": "T3a1b3Aps6JN",
        "outputId": "38256e0f-1614-44b9-ad8f-526b6e2b0f5f"
      },
      "execution_count": null,
      "outputs": [
        {
          "output_type": "stream",
          "name": "stdout",
          "text": [
            "\n",
            "*** Structure ***\n",
            "<class 'pandas.core.frame.DataFrame'>\n",
            "RangeIndex: 150 entries, 0 to 149\n",
            "Data columns (total 8 columns):\n",
            " #   Column                Non-Null Count  Dtype  \n",
            "---  ------                --------------  -----  \n",
            " 0   Country               150 non-null    object \n",
            " 1   Region                150 non-null    object \n",
            " 2   Publications          149 non-null    float64\n",
            " 3   % Women in Ai         132 non-null    float64\n",
            " 4   AI startups           69 non-null     float64\n",
            " 5   Total  usd raised     70 non-null     float64\n",
            " 6   % Ai skills           36 non-null     float64\n",
            " 7   Repositeries created  148 non-null    float64\n",
            "dtypes: float64(6), object(2)\n",
            "memory usage: 9.5+ KB\n",
            "None\n"
          ]
        }
      ]
    },
    {
      "cell_type": "code",
      "source": [
        "# data types\n",
        "print(\"\\n*** Data Types ***\")\n",
        "print(df.dtypes)"
      ],
      "metadata": {
        "colab": {
          "base_uri": "https://localhost:8080/"
        },
        "id": "izhN_7bxs6L_",
        "outputId": "117e4e86-2e0a-4b61-b2c7-4add3cf64db2"
      },
      "execution_count": null,
      "outputs": [
        {
          "output_type": "stream",
          "name": "stdout",
          "text": [
            "\n",
            "*** Data Types ***\n",
            "Country                  object\n",
            "Region                   object\n",
            "Publications            float64\n",
            "% Women in Ai           float64\n",
            "AI startups             float64\n",
            "Total  usd raised       float64\n",
            "% Ai skills             float64\n",
            "Repositeries created    float64\n",
            "dtype: object\n"
          ]
        }
      ]
    },
    {
      "cell_type": "code",
      "source": [
        "# unique values\n",
        "print(\"\\n*** Unique Values ***\")\n",
        "print(df.apply(lambda x: x.nunique()))"
      ],
      "metadata": {
        "colab": {
          "base_uri": "https://localhost:8080/"
        },
        "id": "jH358lHes6OV",
        "outputId": "afc19083-9a5a-4861-f7e9-42a52957bb0e"
      },
      "execution_count": null,
      "outputs": [
        {
          "output_type": "stream",
          "name": "stdout",
          "text": [
            "\n",
            "*** Unique Values ***\n",
            "Country                 150\n",
            "Region                    7\n",
            "Publications             84\n",
            "% Women in Ai            42\n",
            "AI startups               5\n",
            "Total  usd raised        62\n",
            "% Ai skills              22\n",
            "Repositeries created    101\n",
            "dtype: int64\n"
          ]
        }
      ]
    },
    {
      "cell_type": "code",
      "source": [
        "# summary\n",
        "print(\"\\n*** Summary ***\")\n",
        "print(df.describe(include=np.number))\n",
        "#print(df.describe(include=np.object))"
      ],
      "metadata": {
        "colab": {
          "base_uri": "https://localhost:8080/"
        },
        "id": "R7vvX1Bis6QK",
        "outputId": "f373822e-90af-40fa-f979-eb6b73b88182"
      },
      "execution_count": null,
      "outputs": [
        {
          "output_type": "stream",
          "name": "stdout",
          "text": [
            "\n",
            "*** Summary ***\n",
            "       Publications  % Women in Ai  AI startups  Total  usd raised  \\\n",
            "count    149.000000     132.000000    69.000000          70.000000   \n",
            "mean    1738.859060      20.587121     3.956522        2225.228571   \n",
            "std     6973.135616      21.328895     1.518850        8618.821669   \n",
            "min        0.000000       0.000000     1.000000           1.000000   \n",
            "25%        4.000000       3.750000     2.000000          26.500000   \n",
            "50%       37.000000      18.500000     5.000000         176.500000   \n",
            "75%      445.000000      27.000000     5.000000        1138.500000   \n",
            "max    52175.000000     100.000000     5.000000       54312.000000   \n",
            "\n",
            "       % Ai skills  Repositeries created  \n",
            "count    36.000000            148.000000  \n",
            "mean      2.150000           1110.195946  \n",
            "std       1.719551           4353.334274  \n",
            "min       0.700000              0.000000  \n",
            "25%       1.175000             17.250000  \n",
            "50%       1.600000             85.000000  \n",
            "75%       2.300000            663.000000  \n",
            "max       9.100000          50000.000000  \n"
          ]
        }
      ]
    },
    {
      "cell_type": "code",
      "source": [
        "# head\n",
        "print(\"\\n*** Head ***\")\n",
        "print(df.head())\n",
        "\n"
      ],
      "metadata": {
        "colab": {
          "base_uri": "https://localhost:8080/"
        },
        "id": "KExNUZJTs6Sh",
        "outputId": "7bcb3117-a319-4cfc-e9ca-8ff59964491c"
      },
      "execution_count": null,
      "outputs": [
        {
          "output_type": "stream",
          "name": "stdout",
          "text": [
            "\n",
            "*** Head ***\n",
            "             Country                 Region  Publications  % Women in Ai  \\\n",
            "0          Australia  EAST ASIA AND PACIFIC         500.0           19.0   \n",
            "1  Brunei Darussalam  EAST ASIA AND PACIFIC          40.0           28.0   \n",
            "2           Cambodia  EAST ASIA AND PACIFIC           2.0            0.0   \n",
            "3              China  EAST ASIA AND PACIFIC       40000.0            8.0   \n",
            "4               Fiji  EAST ASIA AND PACIFIC           8.0           34.0   \n",
            "\n",
            "   AI startups  Total  usd raised  % Ai skills  Repositeries created  \n",
            "0          5.0             2116.0          1.3                1900.0  \n",
            "1          NaN                NaN          NaN                   1.0  \n",
            "2          NaN                NaN          NaN                   6.0  \n",
            "3          5.0            48752.0          2.4                5000.0  \n",
            "4          NaN                NaN          NaN                   2.0  \n"
          ]
        }
      ]
    },
    {
      "cell_type": "code",
      "source": [
        "# check outlier count\n",
        "print('\\n*** Outlier Count ***')\n",
        "print(utils.OutlierCount(df))"
      ],
      "metadata": {
        "colab": {
          "base_uri": "https://localhost:8080/"
        },
        "id": "d6MeGkkJs6Wq",
        "outputId": "47246810-a867-45bf-af9c-8f96a4676534"
      },
      "execution_count": null,
      "outputs": [
        {
          "output_type": "stream",
          "name": "stdout",
          "text": [
            "\n",
            "*** Outlier Count ***\n",
            "Publications            0\n",
            "% Women in Ai           0\n",
            "AI startups             0\n",
            "Total  usd raised       0\n",
            "% Ai skills             0\n",
            "Repositeries created    0\n",
            "dtype: int64\n"
          ]
        }
      ]
    },
    {
      "cell_type": "code",
      "source": [
        "# check outlier values\n",
        "print('\\n*** Outlier Values ***')\n",
        "print(utils.OutlierValues(df))"
      ],
      "metadata": {
        "colab": {
          "base_uri": "https://localhost:8080/"
        },
        "id": "MeNuR8Fzs6Yw",
        "outputId": "bb37d820-516a-4575-8e1f-6cbe3cffd2e2"
      },
      "execution_count": null,
      "outputs": [
        {
          "output_type": "stream",
          "name": "stdout",
          "text": [
            "\n",
            "*** Outlier Values ***\n",
            "Publications            []\n",
            "% Women in Ai           []\n",
            "AI startups             []\n",
            "Total  usd raised       []\n",
            "% Ai skills             []\n",
            "Repositeries created    []\n",
            "dtype: object\n"
          ]
        }
      ]
    },
    {
      "cell_type": "code",
      "source": [
        "# check nulls\n",
        "print('\\n*** Columns With Nulls ***')\n",
        "print(df.isnull().sum()) "
      ],
      "metadata": {
        "colab": {
          "base_uri": "https://localhost:8080/"
        },
        "id": "62_AvtGyuqb1",
        "outputId": "8ff8966a-d9cc-4641-e9df-4263cfc40963"
      },
      "execution_count": null,
      "outputs": [
        {
          "output_type": "stream",
          "name": "stdout",
          "text": [
            "\n",
            "*** Columns With Nulls ***\n",
            "Country                   0\n",
            "Region                    0\n",
            "Publications              1\n",
            "% Women in Ai            18\n",
            "AI startups              81\n",
            "Total  usd raised        80\n",
            "% Ai skills             114\n",
            "Repositeries created      2\n",
            "dtype: int64\n"
          ]
        }
      ]
    },
    {
      "cell_type": "code",
      "source": [
        "# check std dev \n",
        "print('\\n*** StdDev In Columns ***')\n",
        "print(df.std())"
      ],
      "metadata": {
        "colab": {
          "base_uri": "https://localhost:8080/"
        },
        "id": "13UlSsyjuqmy",
        "outputId": "3b5521c7-8185-4327-8e97-97c8e0aeef6e"
      },
      "execution_count": null,
      "outputs": [
        {
          "output_type": "stream",
          "name": "stdout",
          "text": [
            "\n",
            "*** StdDev In Columns ***\n",
            "Publications            6973.135616\n",
            "% Women in Ai             21.328895\n",
            "AI startups                1.518850\n",
            "Total  usd raised       8618.821669\n",
            "% Ai skills                1.719551\n",
            "Repositeries created    4353.334274\n",
            "dtype: float64\n"
          ]
        }
      ]
    },
    {
      "cell_type": "code",
      "source": [
        "# check nulls\n",
        "print('\\n*** Columns With Nulls ***')\n",
        "print(df.isnull().sum()) "
      ],
      "metadata": {
        "colab": {
          "base_uri": "https://localhost:8080/"
        },
        "id": "RHWHVzyg9BTU",
        "outputId": "2a63acbf-1728-40c6-8987-2262244122b3"
      },
      "execution_count": null,
      "outputs": [
        {
          "output_type": "stream",
          "name": "stdout",
          "text": [
            "\n",
            "*** Columns With Nulls ***\n",
            "Country                   0\n",
            "Region                    0\n",
            "Publications              1\n",
            "% Women in Ai            18\n",
            "AI startups              81\n",
            "Total  usd raised        80\n",
            "% Ai skills             114\n",
            "Repositeries created      2\n",
            "dtype: int64\n"
          ]
        }
      ]
    },
    {
      "cell_type": "code",
      "source": [
        "df[df['AI startups']<5].sort_values('Country').head(10)"
      ],
      "metadata": {
        "colab": {
          "base_uri": "https://localhost:8080/",
          "height": 359
        },
        "id": "OmX65Ry33dDH",
        "outputId": "01552832-1dde-4584-9a20-287baf8edfa3"
      },
      "execution_count": null,
      "outputs": [
        {
          "output_type": "execute_result",
          "data": {
            "text/plain": [
              "            Country                           Region  Publications  \\\n",
              "91          Bahrain     MIDDLE EAST AND NORTH AFRICA          37.0   \n",
              "111      Bangladesh                       SOUTH ASIA         599.0   \n",
              "27          Belarus          EUROPE AND CENTRAL ASIA           5.0   \n",
              "30         Bulgaria          EUROPE AND CENTRAL ASIA          43.0   \n",
              "70   Cayman Islands  LATIN AMERICA AND THE CARIBBEAN        1000.0   \n",
              "73       Costa Rica  LATIN AMERICA AND THE CARIBBEAN           5.0   \n",
              "31          Croatia          EUROPE AND CENTRAL ASIA         139.0   \n",
              "41           Greece          EUROPE AND CENTRAL ASIA         620.0   \n",
              "43          Hungary          EUROPE AND CENTRAL ASIA         160.0   \n",
              "44          Iceland          EUROPE AND CENTRAL ASIA          24.0   \n",
              "\n",
              "     % Women in Ai  AI startups  Total  usd raised  % Ai skills  \\\n",
              "91            14.0          1.0                1.0          NaN   \n",
              "111           19.0          2.0                3.0          NaN   \n",
              "27             0.0          3.0               18.0          NaN   \n",
              "30            43.0          2.0                6.0          NaN   \n",
              "70             NaN          1.0               30.0          NaN   \n",
              "73             0.0          1.0                1.0          NaN   \n",
              "31             0.0          2.0               36.0          NaN   \n",
              "41            18.0          2.0               16.0          2.6   \n",
              "43            22.0          3.0              101.0          1.6   \n",
              "44             7.0          4.0              186.0          1.5   \n",
              "\n",
              "     Repositeries created  \n",
              "91                    6.0  \n",
              "111                4300.0  \n",
              "27                  157.0  \n",
              "30                   85.0  \n",
              "70                    1.0  \n",
              "73                   29.0  \n",
              "31                  101.0  \n",
              "41                  500.0  \n",
              "43                  239.0  \n",
              "44                   24.0  "
            ],
            "text/html": [
              "\n",
              "  <div id=\"df-a5a5040d-b2ed-4978-a3fa-262f0ecc1f20\">\n",
              "    <div class=\"colab-df-container\">\n",
              "      <div>\n",
              "<style scoped>\n",
              "    .dataframe tbody tr th:only-of-type {\n",
              "        vertical-align: middle;\n",
              "    }\n",
              "\n",
              "    .dataframe tbody tr th {\n",
              "        vertical-align: top;\n",
              "    }\n",
              "\n",
              "    .dataframe thead th {\n",
              "        text-align: right;\n",
              "    }\n",
              "</style>\n",
              "<table border=\"1\" class=\"dataframe\">\n",
              "  <thead>\n",
              "    <tr style=\"text-align: right;\">\n",
              "      <th></th>\n",
              "      <th>Country</th>\n",
              "      <th>Region</th>\n",
              "      <th>Publications</th>\n",
              "      <th>% Women in Ai</th>\n",
              "      <th>AI startups</th>\n",
              "      <th>Total  usd raised</th>\n",
              "      <th>% Ai skills</th>\n",
              "      <th>Repositeries created</th>\n",
              "    </tr>\n",
              "  </thead>\n",
              "  <tbody>\n",
              "    <tr>\n",
              "      <th>91</th>\n",
              "      <td>Bahrain</td>\n",
              "      <td>MIDDLE EAST AND NORTH AFRICA</td>\n",
              "      <td>37.0</td>\n",
              "      <td>14.0</td>\n",
              "      <td>1.0</td>\n",
              "      <td>1.0</td>\n",
              "      <td>NaN</td>\n",
              "      <td>6.0</td>\n",
              "    </tr>\n",
              "    <tr>\n",
              "      <th>111</th>\n",
              "      <td>Bangladesh</td>\n",
              "      <td>SOUTH ASIA</td>\n",
              "      <td>599.0</td>\n",
              "      <td>19.0</td>\n",
              "      <td>2.0</td>\n",
              "      <td>3.0</td>\n",
              "      <td>NaN</td>\n",
              "      <td>4300.0</td>\n",
              "    </tr>\n",
              "    <tr>\n",
              "      <th>27</th>\n",
              "      <td>Belarus</td>\n",
              "      <td>EUROPE AND CENTRAL ASIA</td>\n",
              "      <td>5.0</td>\n",
              "      <td>0.0</td>\n",
              "      <td>3.0</td>\n",
              "      <td>18.0</td>\n",
              "      <td>NaN</td>\n",
              "      <td>157.0</td>\n",
              "    </tr>\n",
              "    <tr>\n",
              "      <th>30</th>\n",
              "      <td>Bulgaria</td>\n",
              "      <td>EUROPE AND CENTRAL ASIA</td>\n",
              "      <td>43.0</td>\n",
              "      <td>43.0</td>\n",
              "      <td>2.0</td>\n",
              "      <td>6.0</td>\n",
              "      <td>NaN</td>\n",
              "      <td>85.0</td>\n",
              "    </tr>\n",
              "    <tr>\n",
              "      <th>70</th>\n",
              "      <td>Cayman Islands</td>\n",
              "      <td>LATIN AMERICA AND THE CARIBBEAN</td>\n",
              "      <td>1000.0</td>\n",
              "      <td>NaN</td>\n",
              "      <td>1.0</td>\n",
              "      <td>30.0</td>\n",
              "      <td>NaN</td>\n",
              "      <td>1.0</td>\n",
              "    </tr>\n",
              "    <tr>\n",
              "      <th>73</th>\n",
              "      <td>Costa Rica</td>\n",
              "      <td>LATIN AMERICA AND THE CARIBBEAN</td>\n",
              "      <td>5.0</td>\n",
              "      <td>0.0</td>\n",
              "      <td>1.0</td>\n",
              "      <td>1.0</td>\n",
              "      <td>NaN</td>\n",
              "      <td>29.0</td>\n",
              "    </tr>\n",
              "    <tr>\n",
              "      <th>31</th>\n",
              "      <td>Croatia</td>\n",
              "      <td>EUROPE AND CENTRAL ASIA</td>\n",
              "      <td>139.0</td>\n",
              "      <td>0.0</td>\n",
              "      <td>2.0</td>\n",
              "      <td>36.0</td>\n",
              "      <td>NaN</td>\n",
              "      <td>101.0</td>\n",
              "    </tr>\n",
              "    <tr>\n",
              "      <th>41</th>\n",
              "      <td>Greece</td>\n",
              "      <td>EUROPE AND CENTRAL ASIA</td>\n",
              "      <td>620.0</td>\n",
              "      <td>18.0</td>\n",
              "      <td>2.0</td>\n",
              "      <td>16.0</td>\n",
              "      <td>2.6</td>\n",
              "      <td>500.0</td>\n",
              "    </tr>\n",
              "    <tr>\n",
              "      <th>43</th>\n",
              "      <td>Hungary</td>\n",
              "      <td>EUROPE AND CENTRAL ASIA</td>\n",
              "      <td>160.0</td>\n",
              "      <td>22.0</td>\n",
              "      <td>3.0</td>\n",
              "      <td>101.0</td>\n",
              "      <td>1.6</td>\n",
              "      <td>239.0</td>\n",
              "    </tr>\n",
              "    <tr>\n",
              "      <th>44</th>\n",
              "      <td>Iceland</td>\n",
              "      <td>EUROPE AND CENTRAL ASIA</td>\n",
              "      <td>24.0</td>\n",
              "      <td>7.0</td>\n",
              "      <td>4.0</td>\n",
              "      <td>186.0</td>\n",
              "      <td>1.5</td>\n",
              "      <td>24.0</td>\n",
              "    </tr>\n",
              "  </tbody>\n",
              "</table>\n",
              "</div>\n",
              "      <button class=\"colab-df-convert\" onclick=\"convertToInteractive('df-a5a5040d-b2ed-4978-a3fa-262f0ecc1f20')\"\n",
              "              title=\"Convert this dataframe to an interactive table.\"\n",
              "              style=\"display:none;\">\n",
              "        \n",
              "  <svg xmlns=\"http://www.w3.org/2000/svg\" height=\"24px\"viewBox=\"0 0 24 24\"\n",
              "       width=\"24px\">\n",
              "    <path d=\"M0 0h24v24H0V0z\" fill=\"none\"/>\n",
              "    <path d=\"M18.56 5.44l.94 2.06.94-2.06 2.06-.94-2.06-.94-.94-2.06-.94 2.06-2.06.94zm-11 1L8.5 8.5l.94-2.06 2.06-.94-2.06-.94L8.5 2.5l-.94 2.06-2.06.94zm10 10l.94 2.06.94-2.06 2.06-.94-2.06-.94-.94-2.06-.94 2.06-2.06.94z\"/><path d=\"M17.41 7.96l-1.37-1.37c-.4-.4-.92-.59-1.43-.59-.52 0-1.04.2-1.43.59L10.3 9.45l-7.72 7.72c-.78.78-.78 2.05 0 2.83L4 21.41c.39.39.9.59 1.41.59.51 0 1.02-.2 1.41-.59l7.78-7.78 2.81-2.81c.8-.78.8-2.07 0-2.86zM5.41 20L4 18.59l7.72-7.72 1.47 1.35L5.41 20z\"/>\n",
              "  </svg>\n",
              "      </button>\n",
              "      \n",
              "  <style>\n",
              "    .colab-df-container {\n",
              "      display:flex;\n",
              "      flex-wrap:wrap;\n",
              "      gap: 12px;\n",
              "    }\n",
              "\n",
              "    .colab-df-convert {\n",
              "      background-color: #E8F0FE;\n",
              "      border: none;\n",
              "      border-radius: 50%;\n",
              "      cursor: pointer;\n",
              "      display: none;\n",
              "      fill: #1967D2;\n",
              "      height: 32px;\n",
              "      padding: 0 0 0 0;\n",
              "      width: 32px;\n",
              "    }\n",
              "\n",
              "    .colab-df-convert:hover {\n",
              "      background-color: #E2EBFA;\n",
              "      box-shadow: 0px 1px 2px rgba(60, 64, 67, 0.3), 0px 1px 3px 1px rgba(60, 64, 67, 0.15);\n",
              "      fill: #174EA6;\n",
              "    }\n",
              "\n",
              "    [theme=dark] .colab-df-convert {\n",
              "      background-color: #3B4455;\n",
              "      fill: #D2E3FC;\n",
              "    }\n",
              "\n",
              "    [theme=dark] .colab-df-convert:hover {\n",
              "      background-color: #434B5C;\n",
              "      box-shadow: 0px 1px 3px 1px rgba(0, 0, 0, 0.15);\n",
              "      filter: drop-shadow(0px 1px 2px rgba(0, 0, 0, 0.3));\n",
              "      fill: #FFFFFF;\n",
              "    }\n",
              "  </style>\n",
              "\n",
              "      <script>\n",
              "        const buttonEl =\n",
              "          document.querySelector('#df-a5a5040d-b2ed-4978-a3fa-262f0ecc1f20 button.colab-df-convert');\n",
              "        buttonEl.style.display =\n",
              "          google.colab.kernel.accessAllowed ? 'block' : 'none';\n",
              "\n",
              "        async function convertToInteractive(key) {\n",
              "          const element = document.querySelector('#df-a5a5040d-b2ed-4978-a3fa-262f0ecc1f20');\n",
              "          const dataTable =\n",
              "            await google.colab.kernel.invokeFunction('convertToInteractive',\n",
              "                                                     [key], {});\n",
              "          if (!dataTable) return;\n",
              "\n",
              "          const docLinkHtml = 'Like what you see? Visit the ' +\n",
              "            '<a target=\"_blank\" href=https://colab.research.google.com/notebooks/data_table.ipynb>data table notebook</a>'\n",
              "            + ' to learn more about interactive tables.';\n",
              "          element.innerHTML = '';\n",
              "          dataTable['output_type'] = 'display_data';\n",
              "          await google.colab.output.renderOutput(dataTable, element);\n",
              "          const docLink = document.createElement('div');\n",
              "          docLink.innerHTML = docLinkHtml;\n",
              "          element.appendChild(docLink);\n",
              "        }\n",
              "      </script>\n",
              "    </div>\n",
              "  </div>\n",
              "  "
            ]
          },
          "metadata": {},
          "execution_count": 18
        }
      ]
    },
    {
      "cell_type": "code",
      "source": [
        "df[df['% Women in Ai'] == 0].sort_values('Country').head(10)"
      ],
      "metadata": {
        "colab": {
          "base_uri": "https://localhost:8080/",
          "height": 454
        },
        "id": "OixFt9yIDkTr",
        "outputId": "0d29ea13-4a92-4b08-83f1-5ee2dae12dd3"
      },
      "execution_count": null,
      "outputs": [
        {
          "output_type": "execute_result",
          "data": {
            "text/plain": [
              "         Country                           Region  Publications  \\\n",
              "110  Afghanistan                       SOUTH ASIA           2.0   \n",
              "23       Andorra          EUROPE AND CENTRAL ASIA           0.0   \n",
              "117       Angola               SUB-SAHARAN AFRICA           1.0   \n",
              "24       Armenia          EUROPE AND CENTRAL ASIA           4.0   \n",
              "67      Barbados  LATIN AMERICA AND THE CARIBBEAN           0.0   \n",
              "27       Belarus          EUROPE AND CENTRAL ASIA           5.0   \n",
              "118        Benin               SUB-SAHARAN AFRICA           6.0   \n",
              "107      Bermuda                    NORTH AMERICA           0.0   \n",
              "68       Bolivia  LATIN AMERICA AND THE CARIBBEAN           1.0   \n",
              "2       Cambodia            EAST ASIA AND PACIFIC           2.0   \n",
              "\n",
              "     % Women in Ai  AI startups  Total  usd raised  % Ai skills  \\\n",
              "110            0.0          NaN                NaN          NaN   \n",
              "23             0.0          NaN                NaN          NaN   \n",
              "117            0.0          NaN                NaN          NaN   \n",
              "24             0.0          NaN                NaN          NaN   \n",
              "67             0.0          NaN                NaN          NaN   \n",
              "27             0.0          3.0               18.0          NaN   \n",
              "118            0.0          NaN                NaN          NaN   \n",
              "107            0.0          NaN                NaN          NaN   \n",
              "68             0.0          NaN                NaN          NaN   \n",
              "2              0.0          NaN                NaN          NaN   \n",
              "\n",
              "     Repositeries created  \n",
              "110                   0.0  \n",
              "23                    7.0  \n",
              "117                  85.0  \n",
              "24                   55.0  \n",
              "67                    6.0  \n",
              "27                  157.0  \n",
              "118                   5.0  \n",
              "107                   1.0  \n",
              "68                  107.0  \n",
              "2                     6.0  "
            ],
            "text/html": [
              "\n",
              "  <div id=\"df-64ba9f65-571c-452b-b127-e7f0e9dc3ab6\">\n",
              "    <div class=\"colab-df-container\">\n",
              "      <div>\n",
              "<style scoped>\n",
              "    .dataframe tbody tr th:only-of-type {\n",
              "        vertical-align: middle;\n",
              "    }\n",
              "\n",
              "    .dataframe tbody tr th {\n",
              "        vertical-align: top;\n",
              "    }\n",
              "\n",
              "    .dataframe thead th {\n",
              "        text-align: right;\n",
              "    }\n",
              "</style>\n",
              "<table border=\"1\" class=\"dataframe\">\n",
              "  <thead>\n",
              "    <tr style=\"text-align: right;\">\n",
              "      <th></th>\n",
              "      <th>Country</th>\n",
              "      <th>Region</th>\n",
              "      <th>Publications</th>\n",
              "      <th>% Women in Ai</th>\n",
              "      <th>AI startups</th>\n",
              "      <th>Total  usd raised</th>\n",
              "      <th>% Ai skills</th>\n",
              "      <th>Repositeries created</th>\n",
              "    </tr>\n",
              "  </thead>\n",
              "  <tbody>\n",
              "    <tr>\n",
              "      <th>110</th>\n",
              "      <td>Afghanistan</td>\n",
              "      <td>SOUTH ASIA</td>\n",
              "      <td>2.0</td>\n",
              "      <td>0.0</td>\n",
              "      <td>NaN</td>\n",
              "      <td>NaN</td>\n",
              "      <td>NaN</td>\n",
              "      <td>0.0</td>\n",
              "    </tr>\n",
              "    <tr>\n",
              "      <th>23</th>\n",
              "      <td>Andorra</td>\n",
              "      <td>EUROPE AND CENTRAL ASIA</td>\n",
              "      <td>0.0</td>\n",
              "      <td>0.0</td>\n",
              "      <td>NaN</td>\n",
              "      <td>NaN</td>\n",
              "      <td>NaN</td>\n",
              "      <td>7.0</td>\n",
              "    </tr>\n",
              "    <tr>\n",
              "      <th>117</th>\n",
              "      <td>Angola</td>\n",
              "      <td>SUB-SAHARAN AFRICA</td>\n",
              "      <td>1.0</td>\n",
              "      <td>0.0</td>\n",
              "      <td>NaN</td>\n",
              "      <td>NaN</td>\n",
              "      <td>NaN</td>\n",
              "      <td>85.0</td>\n",
              "    </tr>\n",
              "    <tr>\n",
              "      <th>24</th>\n",
              "      <td>Armenia</td>\n",
              "      <td>EUROPE AND CENTRAL ASIA</td>\n",
              "      <td>4.0</td>\n",
              "      <td>0.0</td>\n",
              "      <td>NaN</td>\n",
              "      <td>NaN</td>\n",
              "      <td>NaN</td>\n",
              "      <td>55.0</td>\n",
              "    </tr>\n",
              "    <tr>\n",
              "      <th>67</th>\n",
              "      <td>Barbados</td>\n",
              "      <td>LATIN AMERICA AND THE CARIBBEAN</td>\n",
              "      <td>0.0</td>\n",
              "      <td>0.0</td>\n",
              "      <td>NaN</td>\n",
              "      <td>NaN</td>\n",
              "      <td>NaN</td>\n",
              "      <td>6.0</td>\n",
              "    </tr>\n",
              "    <tr>\n",
              "      <th>27</th>\n",
              "      <td>Belarus</td>\n",
              "      <td>EUROPE AND CENTRAL ASIA</td>\n",
              "      <td>5.0</td>\n",
              "      <td>0.0</td>\n",
              "      <td>3.0</td>\n",
              "      <td>18.0</td>\n",
              "      <td>NaN</td>\n",
              "      <td>157.0</td>\n",
              "    </tr>\n",
              "    <tr>\n",
              "      <th>118</th>\n",
              "      <td>Benin</td>\n",
              "      <td>SUB-SAHARAN AFRICA</td>\n",
              "      <td>6.0</td>\n",
              "      <td>0.0</td>\n",
              "      <td>NaN</td>\n",
              "      <td>NaN</td>\n",
              "      <td>NaN</td>\n",
              "      <td>5.0</td>\n",
              "    </tr>\n",
              "    <tr>\n",
              "      <th>107</th>\n",
              "      <td>Bermuda</td>\n",
              "      <td>NORTH AMERICA</td>\n",
              "      <td>0.0</td>\n",
              "      <td>0.0</td>\n",
              "      <td>NaN</td>\n",
              "      <td>NaN</td>\n",
              "      <td>NaN</td>\n",
              "      <td>1.0</td>\n",
              "    </tr>\n",
              "    <tr>\n",
              "      <th>68</th>\n",
              "      <td>Bolivia</td>\n",
              "      <td>LATIN AMERICA AND THE CARIBBEAN</td>\n",
              "      <td>1.0</td>\n",
              "      <td>0.0</td>\n",
              "      <td>NaN</td>\n",
              "      <td>NaN</td>\n",
              "      <td>NaN</td>\n",
              "      <td>107.0</td>\n",
              "    </tr>\n",
              "    <tr>\n",
              "      <th>2</th>\n",
              "      <td>Cambodia</td>\n",
              "      <td>EAST ASIA AND PACIFIC</td>\n",
              "      <td>2.0</td>\n",
              "      <td>0.0</td>\n",
              "      <td>NaN</td>\n",
              "      <td>NaN</td>\n",
              "      <td>NaN</td>\n",
              "      <td>6.0</td>\n",
              "    </tr>\n",
              "  </tbody>\n",
              "</table>\n",
              "</div>\n",
              "      <button class=\"colab-df-convert\" onclick=\"convertToInteractive('df-64ba9f65-571c-452b-b127-e7f0e9dc3ab6')\"\n",
              "              title=\"Convert this dataframe to an interactive table.\"\n",
              "              style=\"display:none;\">\n",
              "        \n",
              "  <svg xmlns=\"http://www.w3.org/2000/svg\" height=\"24px\"viewBox=\"0 0 24 24\"\n",
              "       width=\"24px\">\n",
              "    <path d=\"M0 0h24v24H0V0z\" fill=\"none\"/>\n",
              "    <path d=\"M18.56 5.44l.94 2.06.94-2.06 2.06-.94-2.06-.94-.94-2.06-.94 2.06-2.06.94zm-11 1L8.5 8.5l.94-2.06 2.06-.94-2.06-.94L8.5 2.5l-.94 2.06-2.06.94zm10 10l.94 2.06.94-2.06 2.06-.94-2.06-.94-.94-2.06-.94 2.06-2.06.94z\"/><path d=\"M17.41 7.96l-1.37-1.37c-.4-.4-.92-.59-1.43-.59-.52 0-1.04.2-1.43.59L10.3 9.45l-7.72 7.72c-.78.78-.78 2.05 0 2.83L4 21.41c.39.39.9.59 1.41.59.51 0 1.02-.2 1.41-.59l7.78-7.78 2.81-2.81c.8-.78.8-2.07 0-2.86zM5.41 20L4 18.59l7.72-7.72 1.47 1.35L5.41 20z\"/>\n",
              "  </svg>\n",
              "      </button>\n",
              "      \n",
              "  <style>\n",
              "    .colab-df-container {\n",
              "      display:flex;\n",
              "      flex-wrap:wrap;\n",
              "      gap: 12px;\n",
              "    }\n",
              "\n",
              "    .colab-df-convert {\n",
              "      background-color: #E8F0FE;\n",
              "      border: none;\n",
              "      border-radius: 50%;\n",
              "      cursor: pointer;\n",
              "      display: none;\n",
              "      fill: #1967D2;\n",
              "      height: 32px;\n",
              "      padding: 0 0 0 0;\n",
              "      width: 32px;\n",
              "    }\n",
              "\n",
              "    .colab-df-convert:hover {\n",
              "      background-color: #E2EBFA;\n",
              "      box-shadow: 0px 1px 2px rgba(60, 64, 67, 0.3), 0px 1px 3px 1px rgba(60, 64, 67, 0.15);\n",
              "      fill: #174EA6;\n",
              "    }\n",
              "\n",
              "    [theme=dark] .colab-df-convert {\n",
              "      background-color: #3B4455;\n",
              "      fill: #D2E3FC;\n",
              "    }\n",
              "\n",
              "    [theme=dark] .colab-df-convert:hover {\n",
              "      background-color: #434B5C;\n",
              "      box-shadow: 0px 1px 3px 1px rgba(0, 0, 0, 0.15);\n",
              "      filter: drop-shadow(0px 1px 2px rgba(0, 0, 0, 0.3));\n",
              "      fill: #FFFFFF;\n",
              "    }\n",
              "  </style>\n",
              "\n",
              "      <script>\n",
              "        const buttonEl =\n",
              "          document.querySelector('#df-64ba9f65-571c-452b-b127-e7f0e9dc3ab6 button.colab-df-convert');\n",
              "        buttonEl.style.display =\n",
              "          google.colab.kernel.accessAllowed ? 'block' : 'none';\n",
              "\n",
              "        async function convertToInteractive(key) {\n",
              "          const element = document.querySelector('#df-64ba9f65-571c-452b-b127-e7f0e9dc3ab6');\n",
              "          const dataTable =\n",
              "            await google.colab.kernel.invokeFunction('convertToInteractive',\n",
              "                                                     [key], {});\n",
              "          if (!dataTable) return;\n",
              "\n",
              "          const docLinkHtml = 'Like what you see? Visit the ' +\n",
              "            '<a target=\"_blank\" href=https://colab.research.google.com/notebooks/data_table.ipynb>data table notebook</a>'\n",
              "            + ' to learn more about interactive tables.';\n",
              "          element.innerHTML = '';\n",
              "          dataTable['output_type'] = 'display_data';\n",
              "          await google.colab.output.renderOutput(dataTable, element);\n",
              "          const docLink = document.createElement('div');\n",
              "          docLink.innerHTML = docLinkHtml;\n",
              "          element.appendChild(docLink);\n",
              "        }\n",
              "      </script>\n",
              "    </div>\n",
              "  </div>\n",
              "  "
            ]
          },
          "metadata": {},
          "execution_count": 104
        }
      ]
    },
    {
      "cell_type": "code",
      "source": [
        "df[df['% Women in Ai'] == 100].sort_values('Country').head(10)"
      ],
      "metadata": {
        "colab": {
          "base_uri": "https://localhost:8080/",
          "height": 173
        },
        "id": "v-KT0ddWUKHi",
        "outputId": "8a629404-65f9-4784-e0a5-4b0cd4f50b8c"
      },
      "execution_count": null,
      "outputs": [
        {
          "output_type": "execute_result",
          "data": {
            "text/plain": [
              "        Country                   Region  Publications  % Women in Ai  \\\n",
              "121     Burundi       SUB-SAHARAN AFRICA           1.0          100.0   \n",
              "42    Greenland  EUROPE AND CENTRAL ASIA           2.0          100.0   \n",
              "136  Mozambique       SUB-SAHARAN AFRICA           0.0          100.0   \n",
              "148      Zambia       SUB-SAHARAN AFRICA           4.0          100.0   \n",
              "\n",
              "     AI startups  Total  usd raised  % Ai skills  Repositeries created  \n",
              "121          NaN                NaN          NaN                   0.0  \n",
              "42           NaN                NaN          NaN                   0.0  \n",
              "136          NaN                NaN          NaN                   0.0  \n",
              "148          NaN                NaN          NaN                  63.0  "
            ],
            "text/html": [
              "\n",
              "  <div id=\"df-7f0d4998-a7c2-4c7d-9123-21e558714eb8\">\n",
              "    <div class=\"colab-df-container\">\n",
              "      <div>\n",
              "<style scoped>\n",
              "    .dataframe tbody tr th:only-of-type {\n",
              "        vertical-align: middle;\n",
              "    }\n",
              "\n",
              "    .dataframe tbody tr th {\n",
              "        vertical-align: top;\n",
              "    }\n",
              "\n",
              "    .dataframe thead th {\n",
              "        text-align: right;\n",
              "    }\n",
              "</style>\n",
              "<table border=\"1\" class=\"dataframe\">\n",
              "  <thead>\n",
              "    <tr style=\"text-align: right;\">\n",
              "      <th></th>\n",
              "      <th>Country</th>\n",
              "      <th>Region</th>\n",
              "      <th>Publications</th>\n",
              "      <th>% Women in Ai</th>\n",
              "      <th>AI startups</th>\n",
              "      <th>Total  usd raised</th>\n",
              "      <th>% Ai skills</th>\n",
              "      <th>Repositeries created</th>\n",
              "    </tr>\n",
              "  </thead>\n",
              "  <tbody>\n",
              "    <tr>\n",
              "      <th>121</th>\n",
              "      <td>Burundi</td>\n",
              "      <td>SUB-SAHARAN AFRICA</td>\n",
              "      <td>1.0</td>\n",
              "      <td>100.0</td>\n",
              "      <td>NaN</td>\n",
              "      <td>NaN</td>\n",
              "      <td>NaN</td>\n",
              "      <td>0.0</td>\n",
              "    </tr>\n",
              "    <tr>\n",
              "      <th>42</th>\n",
              "      <td>Greenland</td>\n",
              "      <td>EUROPE AND CENTRAL ASIA</td>\n",
              "      <td>2.0</td>\n",
              "      <td>100.0</td>\n",
              "      <td>NaN</td>\n",
              "      <td>NaN</td>\n",
              "      <td>NaN</td>\n",
              "      <td>0.0</td>\n",
              "    </tr>\n",
              "    <tr>\n",
              "      <th>136</th>\n",
              "      <td>Mozambique</td>\n",
              "      <td>SUB-SAHARAN AFRICA</td>\n",
              "      <td>0.0</td>\n",
              "      <td>100.0</td>\n",
              "      <td>NaN</td>\n",
              "      <td>NaN</td>\n",
              "      <td>NaN</td>\n",
              "      <td>0.0</td>\n",
              "    </tr>\n",
              "    <tr>\n",
              "      <th>148</th>\n",
              "      <td>Zambia</td>\n",
              "      <td>SUB-SAHARAN AFRICA</td>\n",
              "      <td>4.0</td>\n",
              "      <td>100.0</td>\n",
              "      <td>NaN</td>\n",
              "      <td>NaN</td>\n",
              "      <td>NaN</td>\n",
              "      <td>63.0</td>\n",
              "    </tr>\n",
              "  </tbody>\n",
              "</table>\n",
              "</div>\n",
              "      <button class=\"colab-df-convert\" onclick=\"convertToInteractive('df-7f0d4998-a7c2-4c7d-9123-21e558714eb8')\"\n",
              "              title=\"Convert this dataframe to an interactive table.\"\n",
              "              style=\"display:none;\">\n",
              "        \n",
              "  <svg xmlns=\"http://www.w3.org/2000/svg\" height=\"24px\"viewBox=\"0 0 24 24\"\n",
              "       width=\"24px\">\n",
              "    <path d=\"M0 0h24v24H0V0z\" fill=\"none\"/>\n",
              "    <path d=\"M18.56 5.44l.94 2.06.94-2.06 2.06-.94-2.06-.94-.94-2.06-.94 2.06-2.06.94zm-11 1L8.5 8.5l.94-2.06 2.06-.94-2.06-.94L8.5 2.5l-.94 2.06-2.06.94zm10 10l.94 2.06.94-2.06 2.06-.94-2.06-.94-.94-2.06-.94 2.06-2.06.94z\"/><path d=\"M17.41 7.96l-1.37-1.37c-.4-.4-.92-.59-1.43-.59-.52 0-1.04.2-1.43.59L10.3 9.45l-7.72 7.72c-.78.78-.78 2.05 0 2.83L4 21.41c.39.39.9.59 1.41.59.51 0 1.02-.2 1.41-.59l7.78-7.78 2.81-2.81c.8-.78.8-2.07 0-2.86zM5.41 20L4 18.59l7.72-7.72 1.47 1.35L5.41 20z\"/>\n",
              "  </svg>\n",
              "      </button>\n",
              "      \n",
              "  <style>\n",
              "    .colab-df-container {\n",
              "      display:flex;\n",
              "      flex-wrap:wrap;\n",
              "      gap: 12px;\n",
              "    }\n",
              "\n",
              "    .colab-df-convert {\n",
              "      background-color: #E8F0FE;\n",
              "      border: none;\n",
              "      border-radius: 50%;\n",
              "      cursor: pointer;\n",
              "      display: none;\n",
              "      fill: #1967D2;\n",
              "      height: 32px;\n",
              "      padding: 0 0 0 0;\n",
              "      width: 32px;\n",
              "    }\n",
              "\n",
              "    .colab-df-convert:hover {\n",
              "      background-color: #E2EBFA;\n",
              "      box-shadow: 0px 1px 2px rgba(60, 64, 67, 0.3), 0px 1px 3px 1px rgba(60, 64, 67, 0.15);\n",
              "      fill: #174EA6;\n",
              "    }\n",
              "\n",
              "    [theme=dark] .colab-df-convert {\n",
              "      background-color: #3B4455;\n",
              "      fill: #D2E3FC;\n",
              "    }\n",
              "\n",
              "    [theme=dark] .colab-df-convert:hover {\n",
              "      background-color: #434B5C;\n",
              "      box-shadow: 0px 1px 3px 1px rgba(0, 0, 0, 0.15);\n",
              "      filter: drop-shadow(0px 1px 2px rgba(0, 0, 0, 0.3));\n",
              "      fill: #FFFFFF;\n",
              "    }\n",
              "  </style>\n",
              "\n",
              "      <script>\n",
              "        const buttonEl =\n",
              "          document.querySelector('#df-7f0d4998-a7c2-4c7d-9123-21e558714eb8 button.colab-df-convert');\n",
              "        buttonEl.style.display =\n",
              "          google.colab.kernel.accessAllowed ? 'block' : 'none';\n",
              "\n",
              "        async function convertToInteractive(key) {\n",
              "          const element = document.querySelector('#df-7f0d4998-a7c2-4c7d-9123-21e558714eb8');\n",
              "          const dataTable =\n",
              "            await google.colab.kernel.invokeFunction('convertToInteractive',\n",
              "                                                     [key], {});\n",
              "          if (!dataTable) return;\n",
              "\n",
              "          const docLinkHtml = 'Like what you see? Visit the ' +\n",
              "            '<a target=\"_blank\" href=https://colab.research.google.com/notebooks/data_table.ipynb>data table notebook</a>'\n",
              "            + ' to learn more about interactive tables.';\n",
              "          element.innerHTML = '';\n",
              "          dataTable['output_type'] = 'display_data';\n",
              "          await google.colab.output.renderOutput(dataTable, element);\n",
              "          const docLink = document.createElement('div');\n",
              "          docLink.innerHTML = docLinkHtml;\n",
              "          element.appendChild(docLink);\n",
              "        }\n",
              "      </script>\n",
              "    </div>\n",
              "  </div>\n",
              "  "
            ]
          },
          "metadata": {},
          "execution_count": 20
        }
      ]
    },
    {
      "cell_type": "code",
      "source": [
        "maxValues = df.max(axis = 1)\n",
        "print(maxValues)"
      ],
      "metadata": {
        "colab": {
          "base_uri": "https://localhost:8080/"
        },
        "id": "mRSD9PqIUeW3",
        "outputId": "a5c158e9-d32e-43f1-a483-6c394000d0a7"
      },
      "execution_count": null,
      "outputs": [
        {
          "output_type": "stream",
          "name": "stdout",
          "text": [
            "0       2116.0\n",
            "1         40.0\n",
            "2          6.0\n",
            "3      48752.0\n",
            "4         34.0\n",
            "        ...   \n",
            "145      185.0\n",
            "146        6.0\n",
            "147      218.0\n",
            "148      100.0\n",
            "149       65.0\n",
            "Length: 150, dtype: float64\n"
          ]
        }
      ]
    },
    {
      "cell_type": "code",
      "source": [
        "maxClm = df['Publications'].max()\n",
        " \n",
        "print(\"Maximum value in column 'Publications': \" )\n",
        "print(maxClm)"
      ],
      "metadata": {
        "colab": {
          "base_uri": "https://localhost:8080/"
        },
        "id": "ACZxkrZ5U-vf",
        "outputId": "78a99f95-117e-4f1d-9a23-b56d8b945433"
      },
      "execution_count": null,
      "outputs": [
        {
          "output_type": "stream",
          "name": "stdout",
          "text": [
            "Maximum value in column 'Publications': \n",
            "52175.0\n"
          ]
        }
      ]
    },
    {
      "cell_type": "code",
      "source": [
        "maxClm = df['Repositeries created'].max()\n",
        " \n",
        "print(\"Maximum value in column 'Repositeries created': \" )\n",
        "print(maxClm)"
      ],
      "metadata": {
        "colab": {
          "base_uri": "https://localhost:8080/"
        },
        "id": "i0QD2_a6WXq-",
        "outputId": "d0d0dd8e-fc20-4ea4-c79c-b2fc97561923"
      },
      "execution_count": null,
      "outputs": [
        {
          "output_type": "stream",
          "name": "stdout",
          "text": [
            "Maximum value in column 'Repositeries created': \n",
            "50000.0\n"
          ]
        }
      ]
    },
    {
      "cell_type": "code",
      "source": [
        "df.nlargest(3,['Repositeries created'])"
      ],
      "metadata": {
        "colab": {
          "base_uri": "https://localhost:8080/",
          "height": 220
        },
        "id": "QGVDpEFCEGHt",
        "outputId": "a5f71144-8dfe-4e34-d1a2-0597a86228a4"
      },
      "execution_count": null,
      "outputs": [
        {
          "output_type": "execute_result",
          "data": {
            "text/plain": [
              "            Country                   Region  Publications  % Women in Ai  \\\n",
              "113           India               SOUTH ASIA       15000.0           31.0   \n",
              "65   United Kingdom  EUROPE AND CENTRAL ASIA        4300.0           18.0   \n",
              "109    United State            NORTH AMERICA       16000.0           19.0   \n",
              "\n",
              "     AI startups  Total  usd raised  % Ai skills  Repositeries created  \n",
              "113          5.0             3074.0          9.1               50000.0  \n",
              "65           5.0             4941.0          1.3                7900.0  \n",
              "109          5.0            54312.0          1.6                7900.0  "
            ],
            "text/html": [
              "\n",
              "  <div id=\"df-c61fb8cc-637a-450f-8f60-32373bd6177a\">\n",
              "    <div class=\"colab-df-container\">\n",
              "      <div>\n",
              "<style scoped>\n",
              "    .dataframe tbody tr th:only-of-type {\n",
              "        vertical-align: middle;\n",
              "    }\n",
              "\n",
              "    .dataframe tbody tr th {\n",
              "        vertical-align: top;\n",
              "    }\n",
              "\n",
              "    .dataframe thead th {\n",
              "        text-align: right;\n",
              "    }\n",
              "</style>\n",
              "<table border=\"1\" class=\"dataframe\">\n",
              "  <thead>\n",
              "    <tr style=\"text-align: right;\">\n",
              "      <th></th>\n",
              "      <th>Country</th>\n",
              "      <th>Region</th>\n",
              "      <th>Publications</th>\n",
              "      <th>% Women in Ai</th>\n",
              "      <th>AI startups</th>\n",
              "      <th>Total  usd raised</th>\n",
              "      <th>% Ai skills</th>\n",
              "      <th>Repositeries created</th>\n",
              "    </tr>\n",
              "  </thead>\n",
              "  <tbody>\n",
              "    <tr>\n",
              "      <th>113</th>\n",
              "      <td>India</td>\n",
              "      <td>SOUTH ASIA</td>\n",
              "      <td>15000.0</td>\n",
              "      <td>31.0</td>\n",
              "      <td>5.0</td>\n",
              "      <td>3074.0</td>\n",
              "      <td>9.1</td>\n",
              "      <td>50000.0</td>\n",
              "    </tr>\n",
              "    <tr>\n",
              "      <th>65</th>\n",
              "      <td>United Kingdom</td>\n",
              "      <td>EUROPE AND CENTRAL ASIA</td>\n",
              "      <td>4300.0</td>\n",
              "      <td>18.0</td>\n",
              "      <td>5.0</td>\n",
              "      <td>4941.0</td>\n",
              "      <td>1.3</td>\n",
              "      <td>7900.0</td>\n",
              "    </tr>\n",
              "    <tr>\n",
              "      <th>109</th>\n",
              "      <td>United State</td>\n",
              "      <td>NORTH AMERICA</td>\n",
              "      <td>16000.0</td>\n",
              "      <td>19.0</td>\n",
              "      <td>5.0</td>\n",
              "      <td>54312.0</td>\n",
              "      <td>1.6</td>\n",
              "      <td>7900.0</td>\n",
              "    </tr>\n",
              "  </tbody>\n",
              "</table>\n",
              "</div>\n",
              "      <button class=\"colab-df-convert\" onclick=\"convertToInteractive('df-c61fb8cc-637a-450f-8f60-32373bd6177a')\"\n",
              "              title=\"Convert this dataframe to an interactive table.\"\n",
              "              style=\"display:none;\">\n",
              "        \n",
              "  <svg xmlns=\"http://www.w3.org/2000/svg\" height=\"24px\"viewBox=\"0 0 24 24\"\n",
              "       width=\"24px\">\n",
              "    <path d=\"M0 0h24v24H0V0z\" fill=\"none\"/>\n",
              "    <path d=\"M18.56 5.44l.94 2.06.94-2.06 2.06-.94-2.06-.94-.94-2.06-.94 2.06-2.06.94zm-11 1L8.5 8.5l.94-2.06 2.06-.94-2.06-.94L8.5 2.5l-.94 2.06-2.06.94zm10 10l.94 2.06.94-2.06 2.06-.94-2.06-.94-.94-2.06-.94 2.06-2.06.94z\"/><path d=\"M17.41 7.96l-1.37-1.37c-.4-.4-.92-.59-1.43-.59-.52 0-1.04.2-1.43.59L10.3 9.45l-7.72 7.72c-.78.78-.78 2.05 0 2.83L4 21.41c.39.39.9.59 1.41.59.51 0 1.02-.2 1.41-.59l7.78-7.78 2.81-2.81c.8-.78.8-2.07 0-2.86zM5.41 20L4 18.59l7.72-7.72 1.47 1.35L5.41 20z\"/>\n",
              "  </svg>\n",
              "      </button>\n",
              "      \n",
              "  <style>\n",
              "    .colab-df-container {\n",
              "      display:flex;\n",
              "      flex-wrap:wrap;\n",
              "      gap: 12px;\n",
              "    }\n",
              "\n",
              "    .colab-df-convert {\n",
              "      background-color: #E8F0FE;\n",
              "      border: none;\n",
              "      border-radius: 50%;\n",
              "      cursor: pointer;\n",
              "      display: none;\n",
              "      fill: #1967D2;\n",
              "      height: 32px;\n",
              "      padding: 0 0 0 0;\n",
              "      width: 32px;\n",
              "    }\n",
              "\n",
              "    .colab-df-convert:hover {\n",
              "      background-color: #E2EBFA;\n",
              "      box-shadow: 0px 1px 2px rgba(60, 64, 67, 0.3), 0px 1px 3px 1px rgba(60, 64, 67, 0.15);\n",
              "      fill: #174EA6;\n",
              "    }\n",
              "\n",
              "    [theme=dark] .colab-df-convert {\n",
              "      background-color: #3B4455;\n",
              "      fill: #D2E3FC;\n",
              "    }\n",
              "\n",
              "    [theme=dark] .colab-df-convert:hover {\n",
              "      background-color: #434B5C;\n",
              "      box-shadow: 0px 1px 3px 1px rgba(0, 0, 0, 0.15);\n",
              "      filter: drop-shadow(0px 1px 2px rgba(0, 0, 0, 0.3));\n",
              "      fill: #FFFFFF;\n",
              "    }\n",
              "  </style>\n",
              "\n",
              "      <script>\n",
              "        const buttonEl =\n",
              "          document.querySelector('#df-c61fb8cc-637a-450f-8f60-32373bd6177a button.colab-df-convert');\n",
              "        buttonEl.style.display =\n",
              "          google.colab.kernel.accessAllowed ? 'block' : 'none';\n",
              "\n",
              "        async function convertToInteractive(key) {\n",
              "          const element = document.querySelector('#df-c61fb8cc-637a-450f-8f60-32373bd6177a');\n",
              "          const dataTable =\n",
              "            await google.colab.kernel.invokeFunction('convertToInteractive',\n",
              "                                                     [key], {});\n",
              "          if (!dataTable) return;\n",
              "\n",
              "          const docLinkHtml = 'Like what you see? Visit the ' +\n",
              "            '<a target=\"_blank\" href=https://colab.research.google.com/notebooks/data_table.ipynb>data table notebook</a>'\n",
              "            + ' to learn more about interactive tables.';\n",
              "          element.innerHTML = '';\n",
              "          dataTable['output_type'] = 'display_data';\n",
              "          await google.colab.output.renderOutput(dataTable, element);\n",
              "          const docLink = document.createElement('div');\n",
              "          docLink.innerHTML = docLinkHtml;\n",
              "          element.appendChild(docLink);\n",
              "        }\n",
              "      </script>\n",
              "    </div>\n",
              "  </div>\n",
              "  "
            ]
          },
          "metadata": {},
          "execution_count": 109
        }
      ]
    },
    {
      "cell_type": "code",
      "source": [
        "df.nsmallest(3,'Repositeries created')"
      ],
      "metadata": {
        "colab": {
          "base_uri": "https://localhost:8080/",
          "height": 237
        },
        "id": "ReiBv-CaFH7u",
        "outputId": "b7f96a09-3aa9-49d3-ce45-e5e4bb6e82ca"
      },
      "execution_count": null,
      "outputs": [
        {
          "output_type": "execute_result",
          "data": {
            "text/plain": [
              "          Country                           Region  Publications  \\\n",
              "36  Faroe Islands          EUROPE AND CENTRAL ASIA           2.0   \n",
              "42      Greenland          EUROPE AND CENTRAL ASIA           2.0   \n",
              "84       Paraguay  LATIN AMERICA AND THE CARIBBEAN           2.0   \n",
              "\n",
              "    % Women in Ai  AI startups  Total  usd raised  % Ai skills  \\\n",
              "36            0.0          NaN                NaN          NaN   \n",
              "42          100.0          NaN                NaN          NaN   \n",
              "84            0.0          NaN                NaN          NaN   \n",
              "\n",
              "    Repositeries created  \n",
              "36                   0.0  \n",
              "42                   0.0  \n",
              "84                   0.0  "
            ],
            "text/html": [
              "\n",
              "  <div id=\"df-2a4f6948-e780-4930-9803-f427f86b16a2\">\n",
              "    <div class=\"colab-df-container\">\n",
              "      <div>\n",
              "<style scoped>\n",
              "    .dataframe tbody tr th:only-of-type {\n",
              "        vertical-align: middle;\n",
              "    }\n",
              "\n",
              "    .dataframe tbody tr th {\n",
              "        vertical-align: top;\n",
              "    }\n",
              "\n",
              "    .dataframe thead th {\n",
              "        text-align: right;\n",
              "    }\n",
              "</style>\n",
              "<table border=\"1\" class=\"dataframe\">\n",
              "  <thead>\n",
              "    <tr style=\"text-align: right;\">\n",
              "      <th></th>\n",
              "      <th>Country</th>\n",
              "      <th>Region</th>\n",
              "      <th>Publications</th>\n",
              "      <th>% Women in Ai</th>\n",
              "      <th>AI startups</th>\n",
              "      <th>Total  usd raised</th>\n",
              "      <th>% Ai skills</th>\n",
              "      <th>Repositeries created</th>\n",
              "    </tr>\n",
              "  </thead>\n",
              "  <tbody>\n",
              "    <tr>\n",
              "      <th>36</th>\n",
              "      <td>Faroe Islands</td>\n",
              "      <td>EUROPE AND CENTRAL ASIA</td>\n",
              "      <td>2.0</td>\n",
              "      <td>0.0</td>\n",
              "      <td>NaN</td>\n",
              "      <td>NaN</td>\n",
              "      <td>NaN</td>\n",
              "      <td>0.0</td>\n",
              "    </tr>\n",
              "    <tr>\n",
              "      <th>42</th>\n",
              "      <td>Greenland</td>\n",
              "      <td>EUROPE AND CENTRAL ASIA</td>\n",
              "      <td>2.0</td>\n",
              "      <td>100.0</td>\n",
              "      <td>NaN</td>\n",
              "      <td>NaN</td>\n",
              "      <td>NaN</td>\n",
              "      <td>0.0</td>\n",
              "    </tr>\n",
              "    <tr>\n",
              "      <th>84</th>\n",
              "      <td>Paraguay</td>\n",
              "      <td>LATIN AMERICA AND THE CARIBBEAN</td>\n",
              "      <td>2.0</td>\n",
              "      <td>0.0</td>\n",
              "      <td>NaN</td>\n",
              "      <td>NaN</td>\n",
              "      <td>NaN</td>\n",
              "      <td>0.0</td>\n",
              "    </tr>\n",
              "  </tbody>\n",
              "</table>\n",
              "</div>\n",
              "      <button class=\"colab-df-convert\" onclick=\"convertToInteractive('df-2a4f6948-e780-4930-9803-f427f86b16a2')\"\n",
              "              title=\"Convert this dataframe to an interactive table.\"\n",
              "              style=\"display:none;\">\n",
              "        \n",
              "  <svg xmlns=\"http://www.w3.org/2000/svg\" height=\"24px\"viewBox=\"0 0 24 24\"\n",
              "       width=\"24px\">\n",
              "    <path d=\"M0 0h24v24H0V0z\" fill=\"none\"/>\n",
              "    <path d=\"M18.56 5.44l.94 2.06.94-2.06 2.06-.94-2.06-.94-.94-2.06-.94 2.06-2.06.94zm-11 1L8.5 8.5l.94-2.06 2.06-.94-2.06-.94L8.5 2.5l-.94 2.06-2.06.94zm10 10l.94 2.06.94-2.06 2.06-.94-2.06-.94-.94-2.06-.94 2.06-2.06.94z\"/><path d=\"M17.41 7.96l-1.37-1.37c-.4-.4-.92-.59-1.43-.59-.52 0-1.04.2-1.43.59L10.3 9.45l-7.72 7.72c-.78.78-.78 2.05 0 2.83L4 21.41c.39.39.9.59 1.41.59.51 0 1.02-.2 1.41-.59l7.78-7.78 2.81-2.81c.8-.78.8-2.07 0-2.86zM5.41 20L4 18.59l7.72-7.72 1.47 1.35L5.41 20z\"/>\n",
              "  </svg>\n",
              "      </button>\n",
              "      \n",
              "  <style>\n",
              "    .colab-df-container {\n",
              "      display:flex;\n",
              "      flex-wrap:wrap;\n",
              "      gap: 12px;\n",
              "    }\n",
              "\n",
              "    .colab-df-convert {\n",
              "      background-color: #E8F0FE;\n",
              "      border: none;\n",
              "      border-radius: 50%;\n",
              "      cursor: pointer;\n",
              "      display: none;\n",
              "      fill: #1967D2;\n",
              "      height: 32px;\n",
              "      padding: 0 0 0 0;\n",
              "      width: 32px;\n",
              "    }\n",
              "\n",
              "    .colab-df-convert:hover {\n",
              "      background-color: #E2EBFA;\n",
              "      box-shadow: 0px 1px 2px rgba(60, 64, 67, 0.3), 0px 1px 3px 1px rgba(60, 64, 67, 0.15);\n",
              "      fill: #174EA6;\n",
              "    }\n",
              "\n",
              "    [theme=dark] .colab-df-convert {\n",
              "      background-color: #3B4455;\n",
              "      fill: #D2E3FC;\n",
              "    }\n",
              "\n",
              "    [theme=dark] .colab-df-convert:hover {\n",
              "      background-color: #434B5C;\n",
              "      box-shadow: 0px 1px 3px 1px rgba(0, 0, 0, 0.15);\n",
              "      filter: drop-shadow(0px 1px 2px rgba(0, 0, 0, 0.3));\n",
              "      fill: #FFFFFF;\n",
              "    }\n",
              "  </style>\n",
              "\n",
              "      <script>\n",
              "        const buttonEl =\n",
              "          document.querySelector('#df-2a4f6948-e780-4930-9803-f427f86b16a2 button.colab-df-convert');\n",
              "        buttonEl.style.display =\n",
              "          google.colab.kernel.accessAllowed ? 'block' : 'none';\n",
              "\n",
              "        async function convertToInteractive(key) {\n",
              "          const element = document.querySelector('#df-2a4f6948-e780-4930-9803-f427f86b16a2');\n",
              "          const dataTable =\n",
              "            await google.colab.kernel.invokeFunction('convertToInteractive',\n",
              "                                                     [key], {});\n",
              "          if (!dataTable) return;\n",
              "\n",
              "          const docLinkHtml = 'Like what you see? Visit the ' +\n",
              "            '<a target=\"_blank\" href=https://colab.research.google.com/notebooks/data_table.ipynb>data table notebook</a>'\n",
              "            + ' to learn more about interactive tables.';\n",
              "          element.innerHTML = '';\n",
              "          dataTable['output_type'] = 'display_data';\n",
              "          await google.colab.output.renderOutput(dataTable, element);\n",
              "          const docLink = document.createElement('div');\n",
              "          docLink.innerHTML = docLinkHtml;\n",
              "          element.appendChild(docLink);\n",
              "        }\n",
              "      </script>\n",
              "    </div>\n",
              "  </div>\n",
              "  "
            ]
          },
          "metadata": {},
          "execution_count": 112
        }
      ]
    },
    {
      "cell_type": "code",
      "source": [
        "df.nlargest(3,['Publications'])"
      ],
      "metadata": {
        "colab": {
          "base_uri": "https://localhost:8080/",
          "height": 254
        },
        "id": "Z0OXiCYvFRPI",
        "outputId": "4f6c422e-b5e0-4d6a-a1c7-280af73b2369"
      },
      "execution_count": null,
      "outputs": [
        {
          "output_type": "execute_result",
          "data": {
            "text/plain": [
              "          Country                 Region  Publications  % Women in Ai  \\\n",
              "10    Korea, Rep.  EAST ASIA AND PACIFIC       52175.0            7.5   \n",
              "18  Taiwan, China  EAST ASIA AND PACIFIC       46136.0            5.0   \n",
              "3           China  EAST ASIA AND PACIFIC       40000.0            8.0   \n",
              "\n",
              "    AI startups  Total  usd raised  % Ai skills  Repositeries created  \n",
              "10          5.0                NaN          NaN                   NaN  \n",
              "18          5.0             1199.0          NaN                   6.0  \n",
              "3           5.0            48752.0          2.4                5000.0  "
            ],
            "text/html": [
              "\n",
              "  <div id=\"df-b35b7144-b6c6-4686-b68f-336526771bd1\">\n",
              "    <div class=\"colab-df-container\">\n",
              "      <div>\n",
              "<style scoped>\n",
              "    .dataframe tbody tr th:only-of-type {\n",
              "        vertical-align: middle;\n",
              "    }\n",
              "\n",
              "    .dataframe tbody tr th {\n",
              "        vertical-align: top;\n",
              "    }\n",
              "\n",
              "    .dataframe thead th {\n",
              "        text-align: right;\n",
              "    }\n",
              "</style>\n",
              "<table border=\"1\" class=\"dataframe\">\n",
              "  <thead>\n",
              "    <tr style=\"text-align: right;\">\n",
              "      <th></th>\n",
              "      <th>Country</th>\n",
              "      <th>Region</th>\n",
              "      <th>Publications</th>\n",
              "      <th>% Women in Ai</th>\n",
              "      <th>AI startups</th>\n",
              "      <th>Total  usd raised</th>\n",
              "      <th>% Ai skills</th>\n",
              "      <th>Repositeries created</th>\n",
              "    </tr>\n",
              "  </thead>\n",
              "  <tbody>\n",
              "    <tr>\n",
              "      <th>10</th>\n",
              "      <td>Korea, Rep.</td>\n",
              "      <td>EAST ASIA AND PACIFIC</td>\n",
              "      <td>52175.0</td>\n",
              "      <td>7.5</td>\n",
              "      <td>5.0</td>\n",
              "      <td>NaN</td>\n",
              "      <td>NaN</td>\n",
              "      <td>NaN</td>\n",
              "    </tr>\n",
              "    <tr>\n",
              "      <th>18</th>\n",
              "      <td>Taiwan, China</td>\n",
              "      <td>EAST ASIA AND PACIFIC</td>\n",
              "      <td>46136.0</td>\n",
              "      <td>5.0</td>\n",
              "      <td>5.0</td>\n",
              "      <td>1199.0</td>\n",
              "      <td>NaN</td>\n",
              "      <td>6.0</td>\n",
              "    </tr>\n",
              "    <tr>\n",
              "      <th>3</th>\n",
              "      <td>China</td>\n",
              "      <td>EAST ASIA AND PACIFIC</td>\n",
              "      <td>40000.0</td>\n",
              "      <td>8.0</td>\n",
              "      <td>5.0</td>\n",
              "      <td>48752.0</td>\n",
              "      <td>2.4</td>\n",
              "      <td>5000.0</td>\n",
              "    </tr>\n",
              "  </tbody>\n",
              "</table>\n",
              "</div>\n",
              "      <button class=\"colab-df-convert\" onclick=\"convertToInteractive('df-b35b7144-b6c6-4686-b68f-336526771bd1')\"\n",
              "              title=\"Convert this dataframe to an interactive table.\"\n",
              "              style=\"display:none;\">\n",
              "        \n",
              "  <svg xmlns=\"http://www.w3.org/2000/svg\" height=\"24px\"viewBox=\"0 0 24 24\"\n",
              "       width=\"24px\">\n",
              "    <path d=\"M0 0h24v24H0V0z\" fill=\"none\"/>\n",
              "    <path d=\"M18.56 5.44l.94 2.06.94-2.06 2.06-.94-2.06-.94-.94-2.06-.94 2.06-2.06.94zm-11 1L8.5 8.5l.94-2.06 2.06-.94-2.06-.94L8.5 2.5l-.94 2.06-2.06.94zm10 10l.94 2.06.94-2.06 2.06-.94-2.06-.94-.94-2.06-.94 2.06-2.06.94z\"/><path d=\"M17.41 7.96l-1.37-1.37c-.4-.4-.92-.59-1.43-.59-.52 0-1.04.2-1.43.59L10.3 9.45l-7.72 7.72c-.78.78-.78 2.05 0 2.83L4 21.41c.39.39.9.59 1.41.59.51 0 1.02-.2 1.41-.59l7.78-7.78 2.81-2.81c.8-.78.8-2.07 0-2.86zM5.41 20L4 18.59l7.72-7.72 1.47 1.35L5.41 20z\"/>\n",
              "  </svg>\n",
              "      </button>\n",
              "      \n",
              "  <style>\n",
              "    .colab-df-container {\n",
              "      display:flex;\n",
              "      flex-wrap:wrap;\n",
              "      gap: 12px;\n",
              "    }\n",
              "\n",
              "    .colab-df-convert {\n",
              "      background-color: #E8F0FE;\n",
              "      border: none;\n",
              "      border-radius: 50%;\n",
              "      cursor: pointer;\n",
              "      display: none;\n",
              "      fill: #1967D2;\n",
              "      height: 32px;\n",
              "      padding: 0 0 0 0;\n",
              "      width: 32px;\n",
              "    }\n",
              "\n",
              "    .colab-df-convert:hover {\n",
              "      background-color: #E2EBFA;\n",
              "      box-shadow: 0px 1px 2px rgba(60, 64, 67, 0.3), 0px 1px 3px 1px rgba(60, 64, 67, 0.15);\n",
              "      fill: #174EA6;\n",
              "    }\n",
              "\n",
              "    [theme=dark] .colab-df-convert {\n",
              "      background-color: #3B4455;\n",
              "      fill: #D2E3FC;\n",
              "    }\n",
              "\n",
              "    [theme=dark] .colab-df-convert:hover {\n",
              "      background-color: #434B5C;\n",
              "      box-shadow: 0px 1px 3px 1px rgba(0, 0, 0, 0.15);\n",
              "      filter: drop-shadow(0px 1px 2px rgba(0, 0, 0, 0.3));\n",
              "      fill: #FFFFFF;\n",
              "    }\n",
              "  </style>\n",
              "\n",
              "      <script>\n",
              "        const buttonEl =\n",
              "          document.querySelector('#df-b35b7144-b6c6-4686-b68f-336526771bd1 button.colab-df-convert');\n",
              "        buttonEl.style.display =\n",
              "          google.colab.kernel.accessAllowed ? 'block' : 'none';\n",
              "\n",
              "        async function convertToInteractive(key) {\n",
              "          const element = document.querySelector('#df-b35b7144-b6c6-4686-b68f-336526771bd1');\n",
              "          const dataTable =\n",
              "            await google.colab.kernel.invokeFunction('convertToInteractive',\n",
              "                                                     [key], {});\n",
              "          if (!dataTable) return;\n",
              "\n",
              "          const docLinkHtml = 'Like what you see? Visit the ' +\n",
              "            '<a target=\"_blank\" href=https://colab.research.google.com/notebooks/data_table.ipynb>data table notebook</a>'\n",
              "            + ' to learn more about interactive tables.';\n",
              "          element.innerHTML = '';\n",
              "          dataTable['output_type'] = 'display_data';\n",
              "          await google.colab.output.renderOutput(dataTable, element);\n",
              "          const docLink = document.createElement('div');\n",
              "          docLink.innerHTML = docLinkHtml;\n",
              "          element.appendChild(docLink);\n",
              "        }\n",
              "      </script>\n",
              "    </div>\n",
              "  </div>\n",
              "  "
            ]
          },
          "metadata": {},
          "execution_count": 113
        }
      ]
    },
    {
      "cell_type": "code",
      "source": [
        "df.nsmallest(3,['Publications'])"
      ],
      "metadata": {
        "colab": {
          "base_uri": "https://localhost:8080/",
          "height": 237
        },
        "id": "PMveh0qTFbnY",
        "outputId": "b296cefe-5f27-4e7e-a194-a9c2db008b94"
      },
      "execution_count": null,
      "outputs": [
        {
          "output_type": "execute_result",
          "data": {
            "text/plain": [
              "             Country                   Region  Publications  % Women in Ai  \\\n",
              "5   French Polynesia    EAST ASIA AND PACIFIC           0.0            0.0   \n",
              "20       Timor-Leste    EAST ASIA AND PACIFIC           0.0            0.0   \n",
              "23           Andorra  EUROPE AND CENTRAL ASIA           0.0            0.0   \n",
              "\n",
              "    AI startups  Total  usd raised  % Ai skills  Repositeries created  \n",
              "5           NaN                NaN          NaN                   8.0  \n",
              "20          NaN                NaN          NaN                   3.0  \n",
              "23          NaN                NaN          NaN                   7.0  "
            ],
            "text/html": [
              "\n",
              "  <div id=\"df-a1cd7d95-6fda-4aa8-b953-cfd0cc30fcc4\">\n",
              "    <div class=\"colab-df-container\">\n",
              "      <div>\n",
              "<style scoped>\n",
              "    .dataframe tbody tr th:only-of-type {\n",
              "        vertical-align: middle;\n",
              "    }\n",
              "\n",
              "    .dataframe tbody tr th {\n",
              "        vertical-align: top;\n",
              "    }\n",
              "\n",
              "    .dataframe thead th {\n",
              "        text-align: right;\n",
              "    }\n",
              "</style>\n",
              "<table border=\"1\" class=\"dataframe\">\n",
              "  <thead>\n",
              "    <tr style=\"text-align: right;\">\n",
              "      <th></th>\n",
              "      <th>Country</th>\n",
              "      <th>Region</th>\n",
              "      <th>Publications</th>\n",
              "      <th>% Women in Ai</th>\n",
              "      <th>AI startups</th>\n",
              "      <th>Total  usd raised</th>\n",
              "      <th>% Ai skills</th>\n",
              "      <th>Repositeries created</th>\n",
              "    </tr>\n",
              "  </thead>\n",
              "  <tbody>\n",
              "    <tr>\n",
              "      <th>5</th>\n",
              "      <td>French Polynesia</td>\n",
              "      <td>EAST ASIA AND PACIFIC</td>\n",
              "      <td>0.0</td>\n",
              "      <td>0.0</td>\n",
              "      <td>NaN</td>\n",
              "      <td>NaN</td>\n",
              "      <td>NaN</td>\n",
              "      <td>8.0</td>\n",
              "    </tr>\n",
              "    <tr>\n",
              "      <th>20</th>\n",
              "      <td>Timor-Leste</td>\n",
              "      <td>EAST ASIA AND PACIFIC</td>\n",
              "      <td>0.0</td>\n",
              "      <td>0.0</td>\n",
              "      <td>NaN</td>\n",
              "      <td>NaN</td>\n",
              "      <td>NaN</td>\n",
              "      <td>3.0</td>\n",
              "    </tr>\n",
              "    <tr>\n",
              "      <th>23</th>\n",
              "      <td>Andorra</td>\n",
              "      <td>EUROPE AND CENTRAL ASIA</td>\n",
              "      <td>0.0</td>\n",
              "      <td>0.0</td>\n",
              "      <td>NaN</td>\n",
              "      <td>NaN</td>\n",
              "      <td>NaN</td>\n",
              "      <td>7.0</td>\n",
              "    </tr>\n",
              "  </tbody>\n",
              "</table>\n",
              "</div>\n",
              "      <button class=\"colab-df-convert\" onclick=\"convertToInteractive('df-a1cd7d95-6fda-4aa8-b953-cfd0cc30fcc4')\"\n",
              "              title=\"Convert this dataframe to an interactive table.\"\n",
              "              style=\"display:none;\">\n",
              "        \n",
              "  <svg xmlns=\"http://www.w3.org/2000/svg\" height=\"24px\"viewBox=\"0 0 24 24\"\n",
              "       width=\"24px\">\n",
              "    <path d=\"M0 0h24v24H0V0z\" fill=\"none\"/>\n",
              "    <path d=\"M18.56 5.44l.94 2.06.94-2.06 2.06-.94-2.06-.94-.94-2.06-.94 2.06-2.06.94zm-11 1L8.5 8.5l.94-2.06 2.06-.94-2.06-.94L8.5 2.5l-.94 2.06-2.06.94zm10 10l.94 2.06.94-2.06 2.06-.94-2.06-.94-.94-2.06-.94 2.06-2.06.94z\"/><path d=\"M17.41 7.96l-1.37-1.37c-.4-.4-.92-.59-1.43-.59-.52 0-1.04.2-1.43.59L10.3 9.45l-7.72 7.72c-.78.78-.78 2.05 0 2.83L4 21.41c.39.39.9.59 1.41.59.51 0 1.02-.2 1.41-.59l7.78-7.78 2.81-2.81c.8-.78.8-2.07 0-2.86zM5.41 20L4 18.59l7.72-7.72 1.47 1.35L5.41 20z\"/>\n",
              "  </svg>\n",
              "      </button>\n",
              "      \n",
              "  <style>\n",
              "    .colab-df-container {\n",
              "      display:flex;\n",
              "      flex-wrap:wrap;\n",
              "      gap: 12px;\n",
              "    }\n",
              "\n",
              "    .colab-df-convert {\n",
              "      background-color: #E8F0FE;\n",
              "      border: none;\n",
              "      border-radius: 50%;\n",
              "      cursor: pointer;\n",
              "      display: none;\n",
              "      fill: #1967D2;\n",
              "      height: 32px;\n",
              "      padding: 0 0 0 0;\n",
              "      width: 32px;\n",
              "    }\n",
              "\n",
              "    .colab-df-convert:hover {\n",
              "      background-color: #E2EBFA;\n",
              "      box-shadow: 0px 1px 2px rgba(60, 64, 67, 0.3), 0px 1px 3px 1px rgba(60, 64, 67, 0.15);\n",
              "      fill: #174EA6;\n",
              "    }\n",
              "\n",
              "    [theme=dark] .colab-df-convert {\n",
              "      background-color: #3B4455;\n",
              "      fill: #D2E3FC;\n",
              "    }\n",
              "\n",
              "    [theme=dark] .colab-df-convert:hover {\n",
              "      background-color: #434B5C;\n",
              "      box-shadow: 0px 1px 3px 1px rgba(0, 0, 0, 0.15);\n",
              "      filter: drop-shadow(0px 1px 2px rgba(0, 0, 0, 0.3));\n",
              "      fill: #FFFFFF;\n",
              "    }\n",
              "  </style>\n",
              "\n",
              "      <script>\n",
              "        const buttonEl =\n",
              "          document.querySelector('#df-a1cd7d95-6fda-4aa8-b953-cfd0cc30fcc4 button.colab-df-convert');\n",
              "        buttonEl.style.display =\n",
              "          google.colab.kernel.accessAllowed ? 'block' : 'none';\n",
              "\n",
              "        async function convertToInteractive(key) {\n",
              "          const element = document.querySelector('#df-a1cd7d95-6fda-4aa8-b953-cfd0cc30fcc4');\n",
              "          const dataTable =\n",
              "            await google.colab.kernel.invokeFunction('convertToInteractive',\n",
              "                                                     [key], {});\n",
              "          if (!dataTable) return;\n",
              "\n",
              "          const docLinkHtml = 'Like what you see? Visit the ' +\n",
              "            '<a target=\"_blank\" href=https://colab.research.google.com/notebooks/data_table.ipynb>data table notebook</a>'\n",
              "            + ' to learn more about interactive tables.';\n",
              "          element.innerHTML = '';\n",
              "          dataTable['output_type'] = 'display_data';\n",
              "          await google.colab.output.renderOutput(dataTable, element);\n",
              "          const docLink = document.createElement('div');\n",
              "          docLink.innerHTML = docLinkHtml;\n",
              "          element.appendChild(docLink);\n",
              "        }\n",
              "      </script>\n",
              "    </div>\n",
              "  </div>\n",
              "  "
            ]
          },
          "metadata": {},
          "execution_count": 115
        }
      ]
    },
    {
      "cell_type": "code",
      "source": [
        "# class count plot\n",
        "# change as required\n",
        "vMaxCats = 10\n",
        "colNames = df.columns.tolist()\n",
        "print(\"\\n*** Distribution Plot ***\")\n",
        "bFlag = False\n",
        "for colName in colNames:\n",
        "    if len(df[colName].unique()) > vMaxCats:\n",
        "        continue\n",
        "    plt.figure()\n",
        "    sns.countplot(df[colName],label=\"Count\")\n",
        "    plt.title(colName)\n",
        "    plt.show()\n",
        "    bFlag = True\n",
        "if bFlag==False:\n",
        "    print(\"No Categoric Variables Found\")"
      ],
      "metadata": {
        "colab": {
          "base_uri": "https://localhost:8080/",
          "height": 725
        },
        "id": "iBrtT4f4GGHt",
        "outputId": "7b70131c-b1a9-4be8-c557-0f24b735ee84"
      },
      "execution_count": null,
      "outputs": [
        {
          "output_type": "stream",
          "name": "stdout",
          "text": [
            "\n",
            "*** Distribution Plot ***\n"
          ]
        },
        {
          "output_type": "display_data",
          "data": {
            "text/plain": [
              "<Figure size 720x360 with 1 Axes>"
            ],
            "image/png": "[encoded data removed]"
          },
          "metadata": {}
        },
        {
          "output_type": "display_data",
          "data": {
            "text/plain": [
              "<Figure size 720x360 with 1 Axes>"
            ],
            "image/png": "[encoded data removed]"
          },
          "metadata": {}
        }
      ]
    },
    {
      "cell_type": "code",
      "source": [
        "pip install votes"
      ],
      "metadata": {
        "colab": {
          "base_uri": "https://localhost:8080/"
        },
        "id": "o1RAIUaMGejU",
        "outputId": "08f62558-473c-4250-ef84-331c8f4a8f5f"
      },
      "execution_count": null,
      "outputs": [
        {
          "output_type": "stream",
          "name": "stdout",
          "text": [
            "Looking in indexes: https://pypi.org/simple, https://us-python.pkg.dev/colab-wheels/public/simple/\n",
            "Requirement already satisfied: votes in /usr/local/lib/python3.7/dist-packages (1.0.1)\n"
          ]
        }
      ]
    },
    {
      "cell_type": "code",
      "source": [
        "df.mean().plot.bar(rot=0, width=0.6)"
      ],
      "metadata": {
        "colab": {
          "base_uri": "https://localhost:8080/",
          "height": 337
        },
        "id": "9DlmpOVMKqJH",
        "outputId": "3a009da5-efde-4cf5-80b2-4016b762951a"
      },
      "execution_count": null,
      "outputs": [
        {
          "output_type": "execute_result",
          "data": {
            "text/plain": [
              "<matplotlib.axes._subplots.AxesSubplot at 0x7f7fabb25c90>"
            ]
          },
          "metadata": {},
          "execution_count": 132
        },
        {
          "output_type": "display_data",
          "data": {
            "text/plain": [
              "<Figure size 720x360 with 1 Axes>"
            ],
            "image/png": "[encoded data removed]"
          },
          "metadata": {}
        }
      ]
    },
    {
      "cell_type": "code",
      "source": [
        "## convert string / categoric to numeric\n",
        "# transformations\n",
        "# change as required\n",
        "print(\"\\n*** Transformations ***\")\n",
        "#lstLabels = ['Country','Region']\n",
        "#for label in lstLabels: \n",
        "    df[label] = pd.Categorical(df[label])\n",
        "    df[label] = df[label].cat.codes\n",
        "#print(\"Done ...\")"
      ],
      "metadata": {
        "colab": {
          "base_uri": "https://localhost:8080/"
        },
        "id": "e_ELYhS5M91f",
        "outputId": "e1b03cc3-12c0-4b40-9510-b6d8076d0165"
      },
      "execution_count": null,
      "outputs": [
        {
          "output_type": "stream",
          "name": "stdout",
          "text": [
            "\n",
            "*** Transformations ***\n",
            "Done ...\n"
          ]
        }
      ]
    },
    {
      "cell_type": "code",
      "source": [
        "df.plot(x=\"Country\", y=[\"Publications\", \"AI startups\"])"
      ],
      "metadata": {
        "colab": {
          "base_uri": "https://localhost:8080/",
          "height": 354
        },
        "id": "BYRZSkmSNTPV",
        "outputId": "750acc42-31ff-4b70-c483-2bd172cf7f8e"
      },
      "execution_count": null,
      "outputs": [
        {
          "output_type": "execute_result",
          "data": {
            "text/plain": [
              "<matplotlib.axes._subplots.AxesSubplot at 0x7f7fa9f31210>"
            ]
          },
          "metadata": {},
          "execution_count": 153
        },
        {
          "output_type": "display_data",
          "data": {
            "text/plain": [
              "<Figure size 720x360 with 1 Axes>"
            ],
            "image/png": "[encoded data removed]"
          },
          "metadata": {}
        }
      ]
    },
    {
      "cell_type": "code",
      "source": [
        "df['Result'] = (df.iloc[:, 1:4].values < df[['AI startups']].values).all(axis=1).astype(int)\n",
        "print (df)"
      ],
      "metadata": {
        "colab": {
          "base_uri": "https://localhost:8080/"
        },
        "id": "T8IxQw6hM_ke",
        "outputId": "ff679640-5b04-4067-e9df-e7d2dd0e9124"
      },
      "execution_count": null,
      "outputs": [
        {
          "output_type": "stream",
          "name": "stdout",
          "text": [
            "     Country  Region  Publications  % Women in Ai  AI startups  \\\n",
            "0          6       0         500.0           19.0          5.0   \n",
            "1         21       0          40.0           28.0          NaN   \n",
            "2         25       0           2.0            0.0          NaN   \n",
            "3         31       0       40000.0            8.0          5.0   \n",
            "4         46       0           8.0           34.0          NaN   \n",
            "..       ...     ...           ...            ...          ...   \n",
            "145      133       6          18.0           57.0          NaN   \n",
            "146      136       6           0.0            NaN          NaN   \n",
            "147      140       6           6.0            7.0          NaN   \n",
            "148      147       6           4.0          100.0          NaN   \n",
            "149      148       6           4.0           50.0          NaN   \n",
            "\n",
            "     Total  usd raised  % Ai skills  Repositeries created  Result  \n",
            "0               2116.0          1.3                1900.0       0  \n",
            "1                  NaN          NaN                   1.0       0  \n",
            "2                  NaN          NaN                   6.0       0  \n",
            "3              48752.0          2.4                5000.0       0  \n",
            "4                  NaN          NaN                   2.0       0  \n",
            "..                 ...          ...                   ...     ...  \n",
            "145                NaN          NaN                 185.0       0  \n",
            "146                NaN          NaN                   6.0       0  \n",
            "147                NaN          NaN                 218.0       0  \n",
            "148                NaN          NaN                  63.0       0  \n",
            "149                NaN          NaN                  65.0       0  \n",
            "\n",
            "[150 rows x 9 columns]\n"
          ]
        }
      ]
    },
    {
      "cell_type": "code",
      "source": [
        "import matplotlib.pyplot as plt\n",
        "df.plot(x=\"Country\", y=[\"Publications\",\"Total  usd raised\"])\n",
        "plt.show()"
      ],
      "metadata": {
        "colab": {
          "base_uri": "https://localhost:8080/",
          "height": 337
        },
        "id": "8pYAZ88UOy2U",
        "outputId": "025ec909-de10-4ce8-ea9a-c5a319cffadd"
      },
      "execution_count": null,
      "outputs": [
        {
          "output_type": "display_data",
          "data": {
            "text/plain": [
              "<Figure size 720x360 with 1 Axes>"
            ],
            "image/png": "[encoded data removed]"
          },
          "metadata": {}
        }
      ]
    },
    {
      "cell_type": "code",
      "source": [
        "median_column = df[\"% Ai skills\"]\n",
        "\n",
        "type(median_column)"
      ],
      "metadata": {
        "colab": {
          "base_uri": "https://localhost:8080/"
        },
        "id": "kcYf99LFPic5",
        "outputId": "84b6a95b-1838-4d52-bf40-f395e13021a7"
      },
      "execution_count": null,
      "outputs": [
        {
          "output_type": "execute_result",
          "data": {
            "text/plain": [
              "pandas.core.series.Series"
            ]
          },
          "metadata": {},
          "execution_count": 159
        }
      ]
    },
    {
      "cell_type": "code",
      "source": [
        "median_column.plot(kind=\"hist\")"
      ],
      "metadata": {
        "colab": {
          "base_uri": "https://localhost:8080/",
          "height": 337
        },
        "id": "2PYoiVvYP5Pe",
        "outputId": "266e4f18-85bf-46bb-8709-e4fde6f8e9b5"
      },
      "execution_count": null,
      "outputs": [
        {
          "output_type": "execute_result",
          "data": {
            "text/plain": [
              "<matplotlib.axes._subplots.AxesSubplot at 0x7f7faaa4e050>"
            ]
          },
          "metadata": {},
          "execution_count": 160
        },
        {
          "output_type": "display_data",
          "data": {
            "text/plain": [
              "<Figure size 720x360 with 1 Axes>"
            ],
            "image/png": "[encoded data removed]"
          },
          "metadata": {}
        }
      ]
    },
    {
      "cell_type": "code",
      "source": [
        " top_5 = df.sort_values(by=\"% Ai skills\", ascending=False).head()"
      ],
      "metadata": {
        "id": "nTPgXy8fQZEN"
      },
      "execution_count": null,
      "outputs": []
    },
    {
      "cell_type": "code",
      "source": [
        "top_5.plot(x=\"Region\", y=\"% Ai skills\", kind=\"bar\", rot=5, fontsize=4)"
      ],
      "metadata": {
        "colab": {
          "base_uri": "https://localhost:8080/",
          "height": 354
        },
        "id": "_fnHcA8sQg3r",
        "outputId": "22f69a73-ae36-4f09-ed56-0f349abc1256"
      },
      "execution_count": null,
      "outputs": [
        {
          "output_type": "execute_result",
          "data": {
            "text/plain": [
              "<matplotlib.axes._subplots.AxesSubplot at 0x7f7faa2f0710>"
            ]
          },
          "metadata": {},
          "execution_count": 164
        },
        {
          "output_type": "display_data",
          "data": {
            "text/plain": [
              "<Figure size 720x360 with 1 Axes>"
            ],
            "image/png": "[encoded data removed]"
          },
          "metadata": {}
        }
      ]
    },
    {
      "cell_type": "code",
      "source": [
        "df.plot(x=\"Region\", y=\"AI startups\", kind=\"scatter\")"
      ],
      "metadata": {
        "colab": {
          "base_uri": "https://localhost:8080/",
          "height": 354
        },
        "id": "uXOISSMkQ2Jc",
        "outputId": "c09a9746-1a04-46d6-b9e4-9f8e1a137dd8"
      },
      "execution_count": null,
      "outputs": [
        {
          "output_type": "execute_result",
          "data": {
            "text/plain": [
              "<matplotlib.axes._subplots.AxesSubplot at 0x7f7faaa4b250>"
            ]
          },
          "metadata": {},
          "execution_count": 165
        },
        {
          "output_type": "display_data",
          "data": {
            "text/plain": [
              "<Figure size 720x360 with 1 Axes>"
            ],
            "image/png": "[encoded data removed]"
          },
          "metadata": {}
        }
      ]
    },
    {
      "cell_type": "code",
      "source": [
        "cat_totals = df.groupby(\"Region\")[\"AI startups\"].sum().sort_values()"
      ],
      "metadata": {
        "id": "mHwpolQZRg7M"
      },
      "execution_count": null,
      "outputs": []
    },
    {
      "cell_type": "code",
      "source": [
        "cat_totals"
      ],
      "metadata": {
        "colab": {
          "base_uri": "https://localhost:8080/"
        },
        "id": "YNzFD5FRRuj2",
        "outputId": "76b8e267-4e71-4320-be87-ae2369f5dcfd"
      },
      "execution_count": null,
      "outputs": [
        {
          "output_type": "execute_result",
          "data": {
            "text/plain": [
              "Region\n",
              "SOUTH ASIA                           9.0\n",
              "NORTH AMERICA                       10.0\n",
              "SUB-SAHARAN AFRICA                  16.0\n",
              "LATIN AMERICA AND THE CARIBBEAN     25.0\n",
              "MIDDLE EAST AND NORTH AFRICA        30.0\n",
              "EAST ASIA AND PACIFIC               54.0\n",
              "EUROPE AND CENTRAL ASIA            129.0\n",
              "Name: AI startups, dtype: float64"
            ]
          },
          "metadata": {},
          "execution_count": 177
        }
      ]
    },
    {
      "cell_type": "code",
      "source": [
        "small_cat_totals = cat_totals[cat_totals < 100]\n",
        "\n",
        "big_cat_totals = cat_totals[cat_totals > 100]\n",
        "small_sums = pd.Series([small_cat_totals.sum()], index=[\"Other\"])\n",
        "\n",
        "big_cat_totals = big_cat_totals.append(small_sums)\n",
        "\n",
        "\n",
        "\n",
        "big_cat_totals.plot(kind=\"pie\", label=\"\")"
      ],
      "metadata": {
        "colab": {
          "base_uri": "https://localhost:8080/",
          "height": 320
        },
        "id": "8wmc80tITH36",
        "outputId": "696d11ec-2ff8-4946-b13c-88de03ffc3a4"
      },
      "execution_count": null,
      "outputs": [
        {
          "output_type": "execute_result",
          "data": {
            "text/plain": [
              "<matplotlib.axes._subplots.AxesSubplot at 0x7f7fa8929650>"
            ]
          },
          "metadata": {},
          "execution_count": 180
        },
        {
          "output_type": "display_data",
          "data": {
            "text/plain": [
              "<Figure size 720x360 with 1 Axes>"
            ],
            "image/png": "[encoded data removed]"
          },
          "metadata": {}
        }
      ]
    },
    {
      "cell_type": "code",
      "source": [
        "cat_totals.plot(kind=\"barh\", fontsize=4)"
      ],
      "metadata": {
        "colab": {
          "base_uri": "https://localhost:8080/",
          "height": 331
        },
        "id": "XV3gzQlxRzWH",
        "outputId": "89f4cced-b46f-4734-de9c-1581fc05384f"
      },
      "execution_count": null,
      "outputs": [
        {
          "output_type": "execute_result",
          "data": {
            "text/plain": [
              "<matplotlib.axes._subplots.AxesSubplot at 0x7f7faa16b0d0>"
            ]
          },
          "metadata": {},
          "execution_count": 168
        },
        {
          "output_type": "display_data",
          "data": {
            "text/plain": [
              "<Figure size 720x360 with 1 Axes>"
            ],
            "image/png": "[encoded data removed]"
          },
          "metadata": {}
        }
      ]
    },
    {
      "cell_type": "code",
      "source": [
        "cat_totals = df.groupby(\"Region\")[\"% Women in Ai\"].sum().sort_values()\n",
        "cat_totals"
      ],
      "metadata": {
        "colab": {
          "base_uri": "https://localhost:8080/"
        },
        "id": "6JqBM2srR50b",
        "outputId": "f6b0b6fa-2669-4a6f-811f-05696a966d7c"
      },
      "execution_count": null,
      "outputs": [
        {
          "output_type": "execute_result",
          "data": {
            "text/plain": [
              "Region\n",
              "NORTH AMERICA                       39.0\n",
              "SOUTH ASIA                         136.0\n",
              "MIDDLE EAST AND NORTH AFRICA       225.0\n",
              "LATIN AMERICA AND THE CARIBBEAN    331.0\n",
              "EAST ASIA AND PACIFIC              386.5\n",
              "SUB-SAHARAN AFRICA                 651.0\n",
              "EUROPE AND CENTRAL ASIA            949.0\n",
              "Name: % Women in Ai, dtype: float64"
            ]
          },
          "metadata": {},
          "execution_count": 170
        }
      ]
    },
    {
      "cell_type": "code",
      "source": [
        "cat_totals.plot(kind=\"barh\", fontsize=4)"
      ],
      "metadata": {
        "colab": {
          "base_uri": "https://localhost:8080/",
          "height": 331
        },
        "id": "37cTapFsSOt8",
        "outputId": "d5f3df26-a1af-4de7-fac6-ab67fe424908"
      },
      "execution_count": null,
      "outputs": [
        {
          "output_type": "execute_result",
          "data": {
            "text/plain": [
              "<matplotlib.axes._subplots.AxesSubplot at 0x7f7fa9ec2090>"
            ]
          },
          "metadata": {},
          "execution_count": 171
        },
        {
          "output_type": "display_data",
          "data": {
            "text/plain": [
              "<Figure size 720x360 with 1 Axes>"
            ],
            "image/png": "[encoded data removed]"
          },
          "metadata": {}
        }
      ]
    },
    {
      "cell_type": "code",
      "source": [
        "small_cat_totals = cat_totals[cat_totals < 100_000]\n",
        "\n",
        "big_cat_totals = cat_totals[cat_totals > 100_000]\n",
        "\n",
        "\n",
        "small_sums = pd.Series([small_cat_totals.sum()], index=[\"Other\"])\n",
        "\n",
        "big_cat_totals = big_cat_totals.append(small_sums)\n",
        "\n",
        "big_cat_totals.plot(kind=\"pie\", label=\"\")"
      ],
      "metadata": {
        "colab": {
          "base_uri": "https://localhost:8080/",
          "height": 320
        },
        "id": "8pb8pr72SrkL",
        "outputId": "8044c0d5-9871-4c84-c367-9cfd9747aac4"
      },
      "execution_count": null,
      "outputs": [
        {
          "output_type": "execute_result",
          "data": {
            "text/plain": [
              "<matplotlib.axes._subplots.AxesSubplot at 0x7f7fa89d48d0>"
            ]
          },
          "metadata": {},
          "execution_count": 175
        },
        {
          "output_type": "display_data",
          "data": {
            "text/plain": [
              "<Figure size 720x360 with 1 Axes>"
            ],
            "image/png": "[encoded data removed]"
          },
          "metadata": {}
        }
      ]
    },
    {
      "cell_type": "code",
      "source": [
        "#Group by two keys and then summarize each group\n",
        "group=  df.groupby(['Country','AI startups','% Ai skills'],as_index=False).Publications.mean()\n",
        "print(group)"
      ],
      "metadata": {
        "colab": {
          "base_uri": "https://localhost:8080/"
        },
        "id": "R7zR3z7AFyM1",
        "outputId": "1d7eb300-cb79-4523-a6c9-6a8a044901aa"
      },
      "execution_count": null,
      "outputs": [
        {
          "output_type": "stream",
          "name": "stdout",
          "text": [
            "                      Country  AI startups  % Ai skills  Publications\n",
            "0                   Australia          5.0          1.3         500.0\n",
            "1                     Austria          5.0          1.9         325.0\n",
            "2                     Belgium          5.0          1.1       13023.0\n",
            "3                      Canada          5.0          2.1        2800.0\n",
            "4                       China          5.0          2.4       40000.0\n",
            "5              Czech Republic          5.0          1.4         190.0\n",
            "6                     Denmark          5.0          1.4         435.0\n",
            "7                     Estonia          5.0          2.2          63.0\n",
            "8                     Finland          5.0          2.3         430.0\n",
            "9                     Germany          5.0          3.6        3600.0\n",
            "10                     Greece          2.0          2.6         620.0\n",
            "11                    Hungary          3.0          1.6         160.0\n",
            "12                    Iceland          4.0          1.5          24.0\n",
            "13                      India          5.0          9.1       15000.0\n",
            "14                    Ireland          5.0          2.1         290.0\n",
            "15                     Israel          5.0          6.3         453.0\n",
            "16                      Italy          5.0          1.1        2599.0\n",
            "17                      Japan          5.0          5.5        2100.0\n",
            "18  Korea, Dem. People's Rep.          5.0          4.4          12.0\n",
            "19                     Latvia          1.0          0.9          35.0\n",
            "20                     Mexico          5.0          0.8         502.0\n",
            "21                Netherlands          5.0          1.2        1100.0\n",
            "22                     Norway          5.0          0.9         449.0\n",
            "23                     Poland          5.0          1.6         900.0\n",
            "24                   Portugal          5.0          1.1         650.0\n",
            "25            Slovak Republic          4.0          1.1          60.0\n",
            "26                   Slovenia          2.0          1.7         125.0\n",
            "27               South Africa          5.0          0.7         445.0\n",
            "28                      Spain          5.0          1.5        1900.0\n",
            "29                     Sweden          5.0          1.8         600.0\n",
            "30                Switzerland          5.0          2.6         899.0\n",
            "31                     Turkey          5.0          2.3        2399.0\n",
            "32             United Kingdom          5.0          1.3        4300.0\n",
            "33               United State          5.0          1.6       16000.0\n"
          ]
        }
      ]
    }
  ]
}